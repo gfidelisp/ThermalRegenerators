{
 "cells": [
  {
   "cell_type": "markdown",
   "id": "d15cb112",
   "metadata": {
    "tags": []
   },
   "source": [
    "# Deep Learning in Active Magnetic Regenerators"
   ]
  },
  {
   "cell_type": "markdown",
   "id": "555c8227",
   "metadata": {},
   "source": [
    "This Notebook presents the results for the application of Neural Networks in the prediction of the Cooling Capacity ($\\dot{Q}_\\mathrm{C}$ or $Qc$) and the Magnetization Power ($\\dot{W}_\\mathrm{m}$ or $Wm$) of Active Magnetic Regenerators. The Dataset consists in 532 points coming from numerical simulations."
   ]
  },
  {
   "cell_type": "markdown",
   "id": "f4f599ee",
   "metadata": {},
   "source": [
    "### Importing the Modules"
   ]
  },
  {
   "cell_type": "code",
   "execution_count": 1,
   "id": "3c66d8c0",
   "metadata": {},
   "outputs": [],
   "source": [
    "import numpy as np\n",
    "import pandas as pd\n",
    "import matplotlib as mpl\n",
    "import matplotlib.pyplot as plt\n",
    "\n",
    "from sklearn.model_selection import train_test_split\n",
    "from sklearn.metrics import r2_score\n",
    "from sklearn.preprocessing import StandardScaler\n",
    "\n",
    "import tensorflow as tf\n",
    "from tensorflow import keras\n",
    "import keras_tuner as kt\n",
    "\n",
    "from tensorflow.keras.models import Model, Sequential, load_model\n",
    "from tensorflow.keras.layers import Input, BatchNormalization, Activation, Dense, Dropout\n",
    "from tensorflow.keras.optimizers import Adam\n",
    "from tensorflow.keras.callbacks import EarlyStopping\n",
    "\n",
    "import joblib\n",
    "tf.config.optimizer.set_jit(True)\n",
    "\n",
    "mpl.style.use('default')\n",
    "plt.rc('text',usetex = True)\n",
    "plt.rc('font', family='serif',size = 12)"
   ]
  },
  {
   "cell_type": "markdown",
   "id": "6135a2df",
   "metadata": {},
   "source": [
    "### Plotting Functions "
   ]
  },
  {
   "cell_type": "code",
   "execution_count": 2,
   "id": "9ea8caff",
   "metadata": {},
   "outputs": [],
   "source": [
    "def plot_results(y_train,y_pred_train,y_test,y_pred_test,Obj):\n",
    "    \n",
    "    plt.figure()\n",
    "    plt.plot(y_train,y_pred_train,'.',markersize = 7,color = '#1f77b4', mfc='none', label = 'Training Set')\n",
    "    plt.plot(y_test,y_pred_test,'x' ,markersize = 5, color = '#2ca02c', mfc='none',label = 'Test Set',)\n",
    "    \n",
    "    if Obj == 'Qc':\n",
    "        Aux = np.linspace(50,300)\n",
    "        plt.plot(Aux,0.95*Aux,'k--')\n",
    "        plt.plot(Aux,1.05*Aux,'k--')\n",
    "        plt.text(140, 180, '$+ 5 \\%$', fontsize=12)\n",
    "        plt.text(150, 120, '$- 5 \\%$', fontsize=12)\n",
    "        plt.legend()\n",
    "        plt.ylabel(r' $\\dot{Q}_\\mathrm{C}$ [W] - NN' )\n",
    "        plt.xlabel(r' $\\dot{Q}_\\mathrm{C}$ [W] - Target')\n",
    "        plt.grid(linestyle='dotted')\n",
    "        plt.savefig('Plots/Qc/Qc - NN.png', format = 'png', bbox_inches='tight') \n",
    "    \n",
    "    elif Obj == 'Wm':\n",
    "        Aux = np.linspace(10,60)\n",
    "        plt.plot(Aux,0.95*Aux,'k--')\n",
    "        plt.plot(Aux,1.05*Aux,'k--')\n",
    "        plt.text(23, 17, '$- 5 \\%$', fontsize=12)\n",
    "        plt.text(19, 28, '$+ 5 \\%$', fontsize=12)\n",
    "        plt.legend()\n",
    "        plt.ylabel(r' $\\dot{W}_\\mathrm{AMR,Mag}$ [W] - NN' )\n",
    "        plt.xlabel(r' $\\dot{W}_\\mathrm{AMR,Mag}$ [W] - Target')\n",
    "        plt.grid(linestyle='dotted')\n",
    "        plt.savefig('Plots/Wm/Wm - NN.png', format = 'png', bbox_inches='tight') "
   ]
  },
  {
   "cell_type": "markdown",
   "id": "ebfad5c8",
   "metadata": {},
   "source": [
    "### Reading the Input Parameteres "
   ]
  },
  {
   "cell_type": "markdown",
   "id": "6c7afc02",
   "metadata": {},
   "source": [
    "The independent variable are the Width ($H$), Height ($H$) and Length ($L$) of the porous medium, the frequency ($f$) and mass flow rate ($mf$) of the Active Magnetic Regenerator, the Inlet Temperatures at the Hot ($Th$) and Cold ($Tc$) ends and the Applied Magnetic Field ($B$).\n",
    "\n",
    "The dependent variables are the Cooling Capacity ($Qc$) and Magnetization Power ($Wm$)."
   ]
  },
  {
   "cell_type": "code",
   "execution_count": 3,
   "id": "433b6fdf",
   "metadata": {},
   "outputs": [],
   "source": [
    "Inputs = pd.read_excel('Data/Data_AMR.xlsx',index_col = 0, dtype=np.float32) # Input Data\n",
    "X = Inputs[['W','H','f','Qc','B','L','Th','Tc']]\n",
    "y = Inputs[['mf','Wm']]"
   ]
  },
  {
   "cell_type": "markdown",
   "id": "66827bab",
   "metadata": {},
   "source": [
    "### Train-Test Split"
   ]
  },
  {
   "cell_type": "code",
   "execution_count": 4,
   "id": "2dd528a2",
   "metadata": {},
   "outputs": [],
   "source": [
    "X_train, X_test, y_train, y_test = train_test_split(X, \n",
    "                                                    y,\n",
    "                                                    test_size = 0.2,\n",
    "                                                    random_state = 42)  "
   ]
  },
  {
   "cell_type": "markdown",
   "id": "3f012151",
   "metadata": {},
   "source": [
    "### Scaling the Features"
   ]
  },
  {
   "cell_type": "code",
   "execution_count": 5,
   "id": "f363b8df",
   "metadata": {},
   "outputs": [],
   "source": [
    "sc = StandardScaler()\n",
    "X_train = sc.fit_transform(X_train)\n",
    "X_test = sc.transform(X_test)"
   ]
  },
  {
   "cell_type": "code",
   "execution_count": 6,
   "id": "b30e25f3",
   "metadata": {},
   "outputs": [
    {
     "data": {
      "text/plain": [
       "['Models/AMR_mf_Scaler.pkl']"
      ]
     },
     "execution_count": 6,
     "metadata": {},
     "output_type": "execute_result"
    }
   ],
   "source": [
    "joblib.dump(sc, 'Models/AMR_mf_Scaler.pkl') "
   ]
  },
  {
   "cell_type": "markdown",
   "id": "a2ae7985",
   "metadata": {},
   "source": [
    "### Building the Model"
   ]
  },
  {
   "cell_type": "code",
   "execution_count": 7,
   "id": "a7349548",
   "metadata": {},
   "outputs": [],
   "source": [
    "def Build(hp):\n",
    "    \n",
    "    #Grouping a stack of Layers in Model\n",
    "    model = tf.keras.Sequential()\n",
    "    model.add(BatchNormalization())\n",
    "    # Adding the Layers\n",
    "    # The number of layers, neurons in each one and activation functions are going to be tunned \n",
    "    for i in range(hp.Int('layers', 0, 5)):\n",
    "        model.add(tf.keras.layers.Dense(units=hp.Int('units_' + str(i), 1, 10001, step=250),\n",
    "                                        activation=hp.Choice('act_' + str(i), ['relu','sigmoid','selu'])))\n",
    "        #model.add(Dropout(0.2))\n",
    "        #Applying a Batch Normalization Layer after Dense Layer\n",
    "        model.add(BatchNormalization())\n",
    "\n",
    "        \n",
    "    # Adding a final Layer \n",
    "    model.add(tf.keras.layers.Dense(1, activation='selu'))\n",
    "    \n",
    "    # Compiling the Model with the Adam optimization algorithm\n",
    "    model.compile(optimizer=Adam(),\n",
    "                  loss=\"mean_squared_error\",\n",
    "                  #metrics=['accuracy']\n",
    "                  metrics = ['accuracy']\n",
    "                 )\n",
    "    return model"
   ]
  },
  {
   "cell_type": "markdown",
   "id": "8323d781",
   "metadata": {},
   "source": [
    "### Batch Optimization"
   ]
  },
  {
   "cell_type": "markdown",
   "id": "d35377ce",
   "metadata": {},
   "source": [
    "Overriding run_trial in MyTuner (https://kegui.medium.com/how-to-tune-the-number-of-epochs-and-batch-size-in-keras-tuner-c2ab2d40878d)"
   ]
  },
  {
   "cell_type": "code",
   "execution_count": 8,
   "id": "c468b8cb",
   "metadata": {},
   "outputs": [],
   "source": [
    "class MyTuner(kt.Hyperband):\n",
    "    def run_trial(self, trial, *args, **kwargs):\n",
    "        kwargs['batch_size'] = trial.hyperparameters.Int('batch_size', 1, 201, step=20)\n",
    "        super(MyTuner, self).run_trial(trial, *args, **kwargs)"
   ]
  },
  {
   "cell_type": "markdown",
   "id": "cd89db08",
   "metadata": {},
   "source": [
    "### Defining the Tuner"
   ]
  },
  {
   "cell_type": "code",
   "execution_count": 9,
   "id": "b763ee5e",
   "metadata": {},
   "outputs": [],
   "source": [
    "def NeuNet(X_train,y_train,max_epochs,Obj):\n",
    "    \n",
    "    # Defining the Tuner\n",
    "    tuner = MyTuner(Build,\n",
    "                    objective = 'val_loss',\n",
    "                    max_epochs = max_epochs,\n",
    "                    directory='KT_Dir',\n",
    "                    project_name='KT_Hyperband_' + Obj,\n",
    "                    executions_per_trial = 1,   \n",
    "    )\n",
    "    \n",
    "    # Hyperparameter Optimization\n",
    "    tuner.search(X_train,\n",
    "                 y_train[Obj],\n",
    "                 epochs=max_epochs,\n",
    "                 #callbacks=[EarlyStopping('val_loss', patience=5)],\n",
    "                 verbose=1,\n",
    "                 validation_split=0.2)\n",
    "    \n",
    "  \n",
    "    # Trainning the Best Model\n",
    "    best_model = tuner.get_best_models()[0]\n",
    "    best_model.build(X_train.shape)\n",
    "    best_model.fit(X_train,\n",
    "                   y_train[Obj], \n",
    "                   epochs=max_epochs,\n",
    "                   batch_size=tuner.get_best_hyperparameters(num_trials=1)[0].get('batch_size')\n",
    "    )\n",
    "    best_model.summary()\n",
    "    \n",
    "    # Saving the Model\n",
    "    best_model.save('Models/'+Obj+'/'+ Obj +'_NN.h5')\n",
    "    \n",
    "     #R2 for the Training Set\n",
    "    print('The coefficient of determination for '+ Obj +' Training Set using Neural Networks is '+\n",
    "          str(r2_score(y_train[Obj], best_model.predict(X_train))))\n",
    "\n",
    "    # R2 for the Test Set\n",
    "    print('The coefficient of determination for '+ Obj +' Test Set using Neural Networks is '+\n",
    "          str(r2_score(y_test[Obj], best_model.predict(X_test)))) \n",
    "\n",
    "    # Plotting the Results\n",
    "    plot_results(y_train[Obj], best_model.predict(X_train), y_test[Obj], best_model.predict(X_test), Obj) "
   ]
  },
  {
   "cell_type": "markdown",
   "id": "75c3b087",
   "metadata": {},
   "source": [
    "### Defining a Test Function"
   ]
  },
  {
   "cell_type": "code",
   "execution_count": 10,
   "id": "c0f8fbff",
   "metadata": {},
   "outputs": [],
   "source": [
    "def Test(X_train,y_train,Obj, Scal):\n",
    "    \n",
    "    Model = load_model('Models/'+Obj+'/'+ Obj +'_NN.h5', compile = False)\n",
    "    Model.summary()\n",
    "    #R2 for the Training Set\n",
    "    print('The coefficient of determination for '+ Obj +' Training Set using Neural Networks is '+\n",
    "          str(r2_score(y_train[Obj], Model.predict(Scal.transform(X_train)))))\n",
    "\n",
    "    # R2 for the Test Set\n",
    "    print('The coefficient of determination for '+ Obj +' Test Set using Neural Networks is '+\n",
    "          str(r2_score(y_test[Obj], Model.predict(Scal.transform(X_test))))) \n",
    "\n",
    "    # Plotting the Results\n",
    "    plot_results(y_train[Obj], Model.predict(Scal.transform(X_train)), y_test[Obj], Model.predict(Scal.transform(X_test)), Obj) "
   ]
  },
  {
   "cell_type": "markdown",
   "id": "11483304",
   "metadata": {},
   "source": [
    "### Training the Models"
   ]
  },
  {
   "cell_type": "code",
   "execution_count": null,
   "id": "fa1e349f",
   "metadata": {
    "scrolled": true
   },
   "outputs": [
    {
     "name": "stdout",
     "output_type": "stream",
     "text": [
      "Trial 932 Complete [00h 00m 23s]\n",
      "val_loss: 349769.15625\n",
      "\n",
      "Best val_loss So Far: 26340.03515625\n",
      "Total elapsed time: 05h 41m 37s\n",
      "\n",
      "Search: Running Trial #933\n",
      "\n",
      "Hyperparameter    |Value             |Best Value So Far \n",
      "layers            |4                 |1                 \n",
      "batch_size        |101               |1                 \n",
      "units_0           |6751              |7251              \n",
      "act_0             |relu              |selu              \n",
      "units_1           |9751              |4751              \n",
      "act_1             |relu              |sigmoid           \n",
      "units_2           |7751              |9501              \n",
      "act_2             |sigmoid           |selu              \n",
      "units_3           |8001              |4001              \n",
      "act_3             |sigmoid           |selu              \n",
      "units_4           |3001              |2001              \n",
      "act_4             |selu              |relu              \n",
      "tuner/epochs      |5                 |2                 \n",
      "tuner/initial_e...|2                 |0                 \n",
      "tuner/bracket     |6                 |6                 \n",
      "tuner/round       |1                 |0                 \n",
      "tuner/trial_id    |d6bc759ff3e41b0...|None              \n",
      "\n",
      "Epoch 3/5\n"
     ]
    }
   ],
   "source": [
    "NeuNet(X_train,y_train,1000,'mf')"
   ]
  },
  {
   "cell_type": "code",
   "execution_count": null,
   "id": "3352558b",
   "metadata": {},
   "outputs": [],
   "source": [
    "NeuNet(X_train,y_train,1000,'Wm')"
   ]
  },
  {
   "cell_type": "markdown",
   "id": "01b10fe2",
   "metadata": {},
   "source": [
    "### Testing the Models"
   ]
  },
  {
   "cell_type": "markdown",
   "id": "96c16d65",
   "metadata": {},
   "source": [
    "### Reading the Input Parameteres "
   ]
  },
  {
   "cell_type": "code",
   "execution_count": null,
   "id": "076debf4",
   "metadata": {},
   "outputs": [],
   "source": [
    "Inputs = pd.read_excel('Data/Data_AMR.xlsx',index_col = 0, dtype=np.float32) # Input Data\n",
    "X = Inputs[['W','H','f','mf','B','L','Th','Tc']]\n",
    "y = Inputs[['Qc','Wm']]"
   ]
  },
  {
   "cell_type": "markdown",
   "id": "3f945f7e",
   "metadata": {},
   "source": [
    "### Train-Test Split"
   ]
  },
  {
   "cell_type": "code",
   "execution_count": null,
   "id": "57aac8ce",
   "metadata": {},
   "outputs": [],
   "source": [
    "X_train, X_test, y_train, y_test = train_test_split(X, \n",
    "                                                    y,\n",
    "                                                    test_size = 0.2,\n",
    "                                                    random_state = 42)  "
   ]
  },
  {
   "cell_type": "markdown",
   "id": "6ad38b4e",
   "metadata": {},
   "source": [
    "### Scaling the Features"
   ]
  },
  {
   "cell_type": "code",
   "execution_count": null,
   "id": "be24ed30",
   "metadata": {},
   "outputs": [],
   "source": [
    "Scaller = joblib.load('Models/AMR_Scaler.pkl')"
   ]
  },
  {
   "cell_type": "code",
   "execution_count": null,
   "id": "8131ec3a",
   "metadata": {},
   "outputs": [],
   "source": [
    "Test(X_train,y_train,'Qc',Scaller)"
   ]
  },
  {
   "cell_type": "code",
   "execution_count": null,
   "id": "8d9702ba",
   "metadata": {},
   "outputs": [],
   "source": [
    "Test(X_train,y_train,'Wm',Scaller)"
   ]
  }
 ],
 "metadata": {
  "kernelspec": {
   "display_name": "Python 3 (ipykernel)",
   "language": "python",
   "name": "python3"
  },
  "language_info": {
   "codemirror_mode": {
    "name": "ipython",
    "version": 3
   },
   "file_extension": ".py",
   "mimetype": "text/x-python",
   "name": "python",
   "nbconvert_exporter": "python",
   "pygments_lexer": "ipython3",
   "version": "3.8.13"
  }
 },
 "nbformat": 4,
 "nbformat_minor": 5
}
