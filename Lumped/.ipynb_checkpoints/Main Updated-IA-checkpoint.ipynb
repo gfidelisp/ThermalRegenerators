{
 "cells": [
  {
   "cell_type": "code",
   "execution_count": 215,
   "metadata": {},
   "outputs": [],
   "source": [
    "from numpy import *\n",
    "from scipy import *\n",
    "import numpy as np\n",
    "from matplotlib import *\n",
    "\n",
    "from scipy import integrate\n",
    "from scipy import interpolate\n",
    "from scipy.optimize import curve_fit\n",
    "import matplotlib.pyplot as plt\n",
    "\n",
    "import CoolProp.CoolProp as Cool\n",
    "\n",
    "import xlrd\n",
    "\n",
    "rc('text',usetex = True)\n",
    "rc('font', family='serif',size = 12)"
   ]
  },
  {
   "cell_type": "markdown",
   "metadata": {},
   "source": [
    "Constant inputs"
   ]
  },
  {
   "cell_type": "code",
   "execution_count": 216,
   "metadata": {},
   "outputs": [],
   "source": [
    "def Length(x):\n",
    "    return(1.008766163651124 +(-0.5079975035831273/4)*x + (2.6682392253711824/12)*x**2 + (-6.636314340353568/32)*x**3)"
   ]
  },
  {
   "cell_type": "code",
   "execution_count": 217,
   "metadata": {},
   "outputs": [],
   "source": [
    "visc=Cool.PropsSI('V','T',273.15+28.5,'P',101325,'Water')\n",
    "rho=Cool.PropsSI('D','T',273.15+28,'P',101325,'Water')\n",
    "k_f=Cool.PropsSI('L','T',273.15+28,'P',101325,'Water')\n",
    "Pr=Cool.PropsSI('PRANDTL','T',273.15+28,'P',101325,'Water')\n",
    "cp_f=Cool.PropsSI('C','T',273.15+28,'P',101325,'Water')"
   ]
  },
  {
   "cell_type": "code",
   "execution_count": 218,
   "metadata": {},
   "outputs": [
    {
     "data": {
      "text/plain": [
       "0.6113128830948378"
      ]
     },
     "execution_count": 218,
     "metadata": {},
     "output_type": "execute_result"
    }
   ],
   "source": [
    "k_f"
   ]
  },
  {
   "cell_type": "code",
   "execution_count": 219,
   "metadata": {},
   "outputs": [],
   "source": [
    "##Properties of the solid \n",
    "\n",
    "rho_s = 7000  #[kg/m3] Density of the solid\n",
    "k_s   = 8 #[W/(m2.K)] #Thermal conductivity of the solid\n",
    "\n",
    "## Propertis of the fluid\n",
    "\n",
    "rho_f = 1000  #[kg/m3] Density of the fluid\n",
    "c_f   = 4181  #[kJ/(kg.K)] # Specific heat of the fluid\n",
    "Pr_f  = 5.712950755328289#[-] Prandtl of the fluid\n",
    "mu_f  = visc #0.0008901 #[kg/m-2] #Viscosity of the fluid\n",
    "k_f   = 0.6110781824336128  #[W/(m2.K)] #Thermal conductivity of the fluid\n",
    "\n",
    "## Porous medium\n",
    "d_p = 650*10**(-6) #[m] Particle diameter\n",
    "#Epsilon = 0.55  #[-] Porosity\n",
    "#Epsilon_dp = 0.465"
   ]
  },
  {
   "cell_type": "code",
   "execution_count": 220,
   "metadata": {},
   "outputs": [
    {
     "data": {
      "text/plain": [
       "0.000823357009323522"
      ]
     },
     "execution_count": 220,
     "metadata": {},
     "output_type": "execute_result"
    }
   ],
   "source": [
    "visc"
   ]
  },
  {
   "cell_type": "markdown",
   "metadata": {},
   "source": [
    "Properties Calculation"
   ]
  },
  {
   "cell_type": "markdown",
   "metadata": {},
   "source": [
    "Importing AMR simulation inputs"
   ]
  },
  {
   "cell_type": "code",
   "execution_count": 221,
   "metadata": {},
   "outputs": [],
   "source": [
    "import pandas as pd"
   ]
  },
  {
   "cell_type": "code",
   "execution_count": 222,
   "metadata": {
    "scrolled": true
   },
   "outputs": [],
   "source": [
    "Inputs = pd.read_excel(open('019B5B00.xlsx', 'rb'),sheet_name='Sheet5')  "
   ]
  },
  {
   "cell_type": "code",
   "execution_count": 223,
   "metadata": {
    "scrolled": true
   },
   "outputs": [
    {
     "data": {
      "text/html": [
       "<div>\n",
       "<style scoped>\n",
       "    .dataframe tbody tr th:only-of-type {\n",
       "        vertical-align: middle;\n",
       "    }\n",
       "\n",
       "    .dataframe tbody tr th {\n",
       "        vertical-align: top;\n",
       "    }\n",
       "\n",
       "    .dataframe thead th {\n",
       "        text-align: right;\n",
       "    }\n",
       "</style>\n",
       "<table border=\"1\" class=\"dataframe\">\n",
       "  <thead>\n",
       "    <tr style=\"text-align: right;\">\n",
       "      <th></th>\n",
       "      <th>Unnamed: 0</th>\n",
       "      <th>W</th>\n",
       "      <th>H</th>\n",
       "      <th>f</th>\n",
       "      <th>mf</th>\n",
       "      <th>B</th>\n",
       "      <th>L</th>\n",
       "      <th>Th</th>\n",
       "      <th>Tc</th>\n",
       "      <th>FE</th>\n",
       "      <th>Qc</th>\n",
       "      <th>Qh</th>\n",
       "      <th>Wp</th>\n",
       "      <th>Wm2</th>\n",
       "      <th>Wm</th>\n",
       "    </tr>\n",
       "  </thead>\n",
       "  <tbody>\n",
       "    <tr>\n",
       "      <th>0</th>\n",
       "      <td>108</td>\n",
       "      <td>40</td>\n",
       "      <td>30</td>\n",
       "      <td>1.0</td>\n",
       "      <td>200</td>\n",
       "      <td>1.0</td>\n",
       "      <td>150</td>\n",
       "      <td>43</td>\n",
       "      <td>14</td>\n",
       "      <td>45</td>\n",
       "      <td>40.35</td>\n",
       "      <td>44.51</td>\n",
       "      <td>2.71</td>\n",
       "      <td>1.52</td>\n",
       "      <td>8.11439</td>\n",
       "    </tr>\n",
       "    <tr>\n",
       "      <th>1</th>\n",
       "      <td>112</td>\n",
       "      <td>40</td>\n",
       "      <td>30</td>\n",
       "      <td>2.0</td>\n",
       "      <td>200</td>\n",
       "      <td>1.0</td>\n",
       "      <td>150</td>\n",
       "      <td>43</td>\n",
       "      <td>14</td>\n",
       "      <td>45</td>\n",
       "      <td>38.27</td>\n",
       "      <td>45.13</td>\n",
       "      <td>2.72</td>\n",
       "      <td>1.60</td>\n",
       "      <td>8.57391</td>\n",
       "    </tr>\n",
       "    <tr>\n",
       "      <th>2</th>\n",
       "      <td>116</td>\n",
       "      <td>40</td>\n",
       "      <td>30</td>\n",
       "      <td>3.0</td>\n",
       "      <td>200</td>\n",
       "      <td>1.0</td>\n",
       "      <td>150</td>\n",
       "      <td>43</td>\n",
       "      <td>14</td>\n",
       "      <td>45</td>\n",
       "      <td>30.43</td>\n",
       "      <td>39.57</td>\n",
       "      <td>2.72</td>\n",
       "      <td>4.97</td>\n",
       "      <td>8.76029</td>\n",
       "    </tr>\n",
       "    <tr>\n",
       "      <th>3</th>\n",
       "      <td>109</td>\n",
       "      <td>40</td>\n",
       "      <td>30</td>\n",
       "      <td>1.0</td>\n",
       "      <td>300</td>\n",
       "      <td>1.0</td>\n",
       "      <td>150</td>\n",
       "      <td>43</td>\n",
       "      <td>14</td>\n",
       "      <td>45</td>\n",
       "      <td>36.44</td>\n",
       "      <td>44.45</td>\n",
       "      <td>7.30</td>\n",
       "      <td>2.58</td>\n",
       "      <td>11.58910</td>\n",
       "    </tr>\n",
       "    <tr>\n",
       "      <th>4</th>\n",
       "      <td>113</td>\n",
       "      <td>40</td>\n",
       "      <td>30</td>\n",
       "      <td>2.0</td>\n",
       "      <td>300</td>\n",
       "      <td>1.0</td>\n",
       "      <td>150</td>\n",
       "      <td>43</td>\n",
       "      <td>14</td>\n",
       "      <td>45</td>\n",
       "      <td>43.82</td>\n",
       "      <td>53.61</td>\n",
       "      <td>7.31</td>\n",
       "      <td>0.19</td>\n",
       "      <td>12.57370</td>\n",
       "    </tr>\n",
       "  </tbody>\n",
       "</table>\n",
       "</div>"
      ],
      "text/plain": [
       "   Unnamed: 0   W   H    f   mf    B    L  Th  Tc  FE     Qc     Qh    Wp  \\\n",
       "0         108  40  30  1.0  200  1.0  150  43  14  45  40.35  44.51  2.71   \n",
       "1         112  40  30  2.0  200  1.0  150  43  14  45  38.27  45.13  2.72   \n",
       "2         116  40  30  3.0  200  1.0  150  43  14  45  30.43  39.57  2.72   \n",
       "3         109  40  30  1.0  300  1.0  150  43  14  45  36.44  44.45  7.30   \n",
       "4         113  40  30  2.0  300  1.0  150  43  14  45  43.82  53.61  7.31   \n",
       "\n",
       "    Wm2        Wm  \n",
       "0  1.52   8.11439  \n",
       "1  1.60   8.57391  \n",
       "2  4.97   8.76029  \n",
       "3  2.58  11.58910  \n",
       "4  0.19  12.57370  "
      ]
     },
     "execution_count": 223,
     "metadata": {},
     "output_type": "execute_result"
    }
   ],
   "source": [
    "Inputs.head()"
   ]
  },
  {
   "cell_type": "code",
   "execution_count": 224,
   "metadata": {},
   "outputs": [],
   "source": [
    "L = np.array(Inputs['L'])\n",
    "W = np.array(Inputs['W'])\n",
    "H = np.array(Inputs['H'])\n",
    "T_c = np.array(Inputs['Tc'])+273.15\n",
    "T_h = np.array(Inputs['Th'])+273.15\n",
    "B_ap = np.array(Inputs['B'])\n",
    "f = np.array(Inputs['f'])\n",
    "m_f = np.array(Inputs['mf'])/3600\n",
    "Qc = np.array(Inputs['Qc'])\n",
    "Qh = np.array(Inputs['Qh'])\n",
    "Wm = np.array(Inputs['Wm'])\n",
    "Wm2 = np.array(Inputs['Wm2'])\n",
    "Wp = np.array(Inputs['Wp'])\n",
    "#Re = np.array(Inputs['Re'])\n",
    "#Ut = np.array(Inputs['Ut'])\n",
    "#Fe = np.array(Inputs['FE'])\n",
    "#NTU = np.array(Inputs['NTU'])\n",
    "#dP = np.array(Inputs['dP'])\n",
    "\n",
    "Epsilon = 0.45*np.ones(len(L))\n",
    "Epsilon_dp = 0.3\n",
    "Epsilon_hyd = 0.307\n",
    "Epsilon3 = 0.34"
   ]
  },
  {
   "cell_type": "markdown",
   "metadata": {},
   "source": [
    "Calculation"
   ]
  },
  {
   "cell_type": "code",
   "execution_count": 225,
   "metadata": {},
   "outputs": [],
   "source": [
    "#Porous medium\n",
    "mu_f=Cool.PropsSI('V','T',(T_c+T_h)/2,'P',101325,'Water')\n",
    "rho=Cool.PropsSI('D','T',(T_c+T_h)/2,'P',101325,'Water')\n",
    "k_f=Cool.PropsSI('L','T',(T_c+T_h)/2,'P',101325,'Water')\n",
    "Pr_f=Cool.PropsSI('PRANDTL','T',(T_c+T_h)/2,'P',101325,'Water')\n",
    "cp_f=4181#Cool.PropsSI('C','T',(T_c+T_h)/2,'P',101325,'Water')\n",
    "\n",
    "\n",
    "m_s   = L*W*H*10**-9*(1-Epsilon)*rho_s #mass of the AMR\n",
    "Beta = (Epsilon_dp/Epsilon3)*(1-Epsilon3)*6/(d_p)\n",
    "\n",
    "v_s   = (m_f)/(rho_f*W*H*10**-6) #Superficial velocity\n",
    "Beta = (Epsilon_dp/Epsilon3)*(1-Epsilon3)*6/(d_p)\n",
    "d_P = (150*(1-Epsilon_hyd)**2/Epsilon_hyd**3*mu_f*v_s/d_p**2+1.75*(1-Epsilon_hyd)/Epsilon_hyd**3*rho_f*v_s**2/d_p)*L/1000\n",
    "\n",
    "#Dimensionless Numbers\n",
    "Re_dp = d_p*v_s*rho_f/(mu_f) #Reynolds number\n",
    "Nu = 2*(1+4*(1-Epsilon_dp)/Epsilon_dp)+((1-Epsilon_dp)**0.5)*Re_dp**0.6*Pr_f**(1/3) # Nusselt number\n",
    "Pe = Re_dp*Pr_f\n",
    "\n",
    "h_1 = Nu*k_f/d_p\n",
    "Bi = h_1*(d_p/2)/(k_s)\n",
    "\n",
    "\n",
    "#Effective conduction\n",
    "k_e_f = k_f*Epsilon #Fluid effective conduction\n",
    "\n",
    "\n",
    "a_0 = np.exp(-1.084-6.778*(Epsilon-0.298))\n",
    "f_0 = 0.8\n",
    "k_e_s = k_f*((1-a_0)*(Epsilon*f_0+(1-Epsilon*f_0)*k_s/k_f)/(1-Epsilon*(1-f_0)+k_s/k_f*Epsilon*(1-f_0))+a_0*(2*((k_s/k_f)**2)*(1-Epsilon)+(1+2*Epsilon)*k_s/k_f)/((2+Epsilon)*k_s/k_f+(1-Epsilon))) #Solid effective conduction\n",
    "\n",
    "D_ = (k_f/rho_f/c_f)*0.75*Pe/2\n",
    "\n",
    "k_s_eff = k_e_s\n",
    "k_f_eff = k_e_f + rho_f*c_f*D_"
   ]
  },
  {
   "cell_type": "code",
   "execution_count": 226,
   "metadata": {},
   "outputs": [
    {
     "data": {
      "image/png": "[encoded data removed]",
      "text/plain": [
       "<Figure size 432x288 with 1 Axes>"
      ]
     },
     "metadata": {
      "needs_background": "light"
     },
     "output_type": "display_data"
    }
   ],
   "source": [
    "plt.plot(d_P,Qc,'o')\n",
    "plt.grid()"
   ]
  },
  {
   "cell_type": "markdown",
   "metadata": {},
   "source": [
    "plt.plot(Re_dp,Re)\n",
    "plt.grid()"
   ]
  },
  {
   "cell_type": "markdown",
   "metadata": {},
   "source": [
    "plt.plot(h_int_L*Beta*L*H*W*10**-9/(m_f*4148),NTU,'o')\n",
    "plt.grid()"
   ]
  },
  {
   "cell_type": "code",
   "execution_count": 227,
   "metadata": {},
   "outputs": [],
   "source": [
    "C_H = np.zeros(len(L))\n",
    "C_L = np.zeros(len(L))\n",
    "dT_mg = np.zeros(len(L))\n",
    "dT_dmg = np.zeros(len(L))\n",
    "M_mg = np.zeros(len(L))"
   ]
  },
  {
   "cell_type": "markdown",
   "metadata": {},
   "source": [
    "Porous Medium Eff"
   ]
  },
  {
   "cell_type": "code",
   "execution_count": 228,
   "metadata": {},
   "outputs": [],
   "source": [
    "def Prop_param(X):\n",
    "    T_c,T_h,B = X\n",
    "    C_H = 2.880197*T_c-2.012589*T_h-414.045137*B**2+1074.942047*B\n",
    "    C_L = 3.534705*T_c-1.661617*T_h-44.487789*B**2+172.791961*B\n",
    "\n",
    "    dT_mg   = 0.007788*T_c-0.007578*T_h-0.033219*B**2+1.644276*B\n",
    "    dT_dmg = 0.008638*T_c-0.011177*T_h-1.414265*B**2+4.830623*B\n",
    "        \n",
    "    return(C_H,C_L,dT_mg,dT_dmg)"
   ]
  },
  {
   "cell_type": "code",
   "execution_count": 229,
   "metadata": {},
   "outputs": [],
   "source": [
    "a = L/2\n",
    "b = W/2\n",
    "c = H/2"
   ]
  },
  {
   "cell_type": "code",
   "execution_count": 230,
   "metadata": {},
   "outputs": [],
   "source": [
    "Nd = 1/np.pi*( (b**2-c**2)/(2*b*c)*np.log(((a**2+b**2+c**2)**0.5-a)/((a**2+b**2+c**2)**0.5+a)) + (a**2-c**2)/(2*a*c)*np.log(((a**2+b**2+c**2)**0.5-b)/((a**2+b**2+c**2)**0.5+b)) +b/(2*c)*np.log(((a**2+b**2)**0.5+a)/((a**2+b**2)**0.5-a)) + a/(2*c)*np.log(((a**2+b**2)**0.5+b)/((a**2+b**2)**0.5-b)) +  c/(2*a)*np.log(((c**2+b**2)**0.5-b)/((c**2+b**2)**0.5+b)) +  c/(2*b)*np.log(((c**2+a**2)**0.5-a)/((c**2+a**2)**0.5+a)) +2*np.arctan((a*b)/(c*(a**2+b**2+c**2)**0.5)) +(a**3 + b**3 - 2*c**3)/(3*a*b*c) +  (a**2+b**2-2*c**2)/(3*a*b*c)*(a**2+b**2+c**2)**0.5+c/(a*b)*((a**2+c**2)**0.5 + (b**2+c**2)**0.5)-((a**2 + b**2)**1.5 + (a**2+c**2)**1.5 + (b**2+c**2)**1.5)/(3*a*b*c))"
   ]
  },
  {
   "cell_type": "code",
   "execution_count": 231,
   "metadata": {},
   "outputs": [],
   "source": [
    "Nd_bed = 1/3 + (1-Epsilon)*(Nd-1/3)"
   ]
  },
  {
   "cell_type": "code",
   "execution_count": 232,
   "metadata": {},
   "outputs": [],
   "source": [
    "Fac = Length(L/190)"
   ]
  },
  {
   "cell_type": "code",
   "execution_count": 233,
   "metadata": {},
   "outputs": [],
   "source": [
    "# ).9 vem do uso do pico e não méida nas simulações\n",
    "B = (B_ap*0.9*Fac - Nd_bed*(0.001257*T_c-0.000352*T_h))/(1+Nd_bed*0.081281) "
   ]
  },
  {
   "cell_type": "code",
   "execution_count": 234,
   "metadata": {
    "scrolled": true
   },
   "outputs": [
    {
     "name": "stdout",
     "output_type": "stream",
     "text": [
      "0\n",
      "1\n",
      "2\n",
      "3\n",
      "4\n",
      "5\n",
      "6\n",
      "7\n",
      "8\n",
      "9\n",
      "10\n",
      "11\n",
      "12\n",
      "13\n",
      "14\n",
      "15\n",
      "16\n",
      "17\n",
      "18\n",
      "19\n",
      "20\n",
      "21\n",
      "22\n",
      "23\n",
      "24\n",
      "25\n",
      "26\n",
      "27\n",
      "28\n",
      "29\n",
      "30\n",
      "31\n",
      "32\n",
      "33\n",
      "34\n",
      "35\n",
      "36\n",
      "37\n",
      "38\n",
      "39\n",
      "40\n",
      "41\n",
      "42\n",
      "43\n",
      "44\n",
      "45\n",
      "46\n",
      "47\n",
      "48\n",
      "49\n",
      "50\n",
      "51\n",
      "52\n",
      "53\n",
      "54\n",
      "55\n",
      "56\n",
      "57\n",
      "58\n",
      "59\n",
      "60\n",
      "61\n",
      "62\n",
      "63\n",
      "64\n",
      "65\n",
      "66\n",
      "67\n",
      "68\n",
      "69\n",
      "70\n",
      "71\n",
      "72\n",
      "73\n",
      "74\n",
      "75\n",
      "76\n",
      "77\n",
      "78\n",
      "79\n",
      "80\n",
      "81\n",
      "82\n",
      "83\n",
      "84\n",
      "85\n",
      "86\n",
      "87\n",
      "88\n",
      "89\n",
      "90\n",
      "91\n",
      "92\n",
      "93\n",
      "94\n",
      "95\n",
      "96\n",
      "97\n",
      "98\n",
      "99\n",
      "100\n",
      "101\n",
      "102\n",
      "103\n",
      "104\n",
      "105\n",
      "106\n",
      "107\n",
      "108\n",
      "109\n",
      "110\n",
      "111\n",
      "112\n",
      "113\n",
      "114\n",
      "115\n",
      "116\n",
      "117\n",
      "118\n",
      "119\n",
      "120\n",
      "121\n",
      "122\n",
      "123\n",
      "124\n",
      "125\n",
      "126\n",
      "127\n",
      "128\n",
      "129\n",
      "130\n",
      "131\n",
      "132\n",
      "133\n",
      "134\n",
      "135\n",
      "136\n",
      "137\n",
      "138\n",
      "139\n",
      "140\n",
      "141\n",
      "142\n",
      "143\n",
      "144\n",
      "145\n",
      "146\n",
      "147\n",
      "148\n",
      "149\n",
      "150\n",
      "151\n",
      "152\n",
      "153\n",
      "154\n",
      "155\n",
      "156\n",
      "157\n",
      "158\n",
      "159\n",
      "160\n",
      "161\n",
      "162\n",
      "163\n",
      "164\n",
      "165\n",
      "166\n",
      "167\n",
      "168\n",
      "169\n",
      "170\n",
      "171\n",
      "172\n",
      "173\n",
      "174\n",
      "175\n",
      "176\n",
      "177\n",
      "178\n",
      "179\n",
      "180\n",
      "181\n",
      "182\n",
      "183\n",
      "184\n",
      "185\n",
      "186\n",
      "187\n",
      "188\n",
      "189\n",
      "190\n",
      "191\n",
      "192\n",
      "193\n",
      "194\n",
      "195\n",
      "196\n",
      "197\n",
      "198\n",
      "199\n",
      "200\n",
      "201\n",
      "202\n",
      "203\n",
      "204\n",
      "205\n",
      "206\n",
      "207\n",
      "208\n",
      "209\n",
      "210\n",
      "211\n",
      "212\n",
      "213\n",
      "214\n",
      "215\n",
      "216\n",
      "217\n",
      "218\n",
      "219\n",
      "220\n",
      "221\n",
      "222\n",
      "223\n",
      "224\n",
      "225\n",
      "226\n",
      "227\n",
      "228\n",
      "229\n",
      "230\n",
      "231\n",
      "232\n",
      "233\n",
      "234\n",
      "235\n",
      "236\n",
      "237\n",
      "238\n",
      "239\n",
      "240\n",
      "241\n",
      "242\n",
      "243\n",
      "244\n",
      "245\n",
      "246\n",
      "247\n",
      "248\n",
      "249\n",
      "250\n",
      "251\n",
      "252\n",
      "253\n",
      "254\n",
      "255\n",
      "256\n",
      "257\n",
      "258\n",
      "259\n",
      "260\n",
      "261\n",
      "262\n",
      "263\n",
      "264\n",
      "265\n",
      "266\n",
      "267\n",
      "268\n",
      "269\n",
      "270\n",
      "271\n",
      "272\n",
      "273\n",
      "274\n",
      "275\n",
      "276\n",
      "277\n",
      "278\n",
      "279\n",
      "280\n",
      "281\n",
      "282\n",
      "283\n",
      "284\n",
      "285\n",
      "286\n",
      "287\n",
      "288\n",
      "289\n",
      "290\n",
      "291\n",
      "292\n",
      "293\n",
      "294\n",
      "295\n",
      "296\n",
      "297\n",
      "298\n",
      "299\n",
      "300\n",
      "301\n",
      "302\n",
      "303\n",
      "304\n",
      "305\n",
      "306\n",
      "307\n",
      "308\n",
      "309\n",
      "310\n",
      "311\n",
      "312\n",
      "313\n",
      "314\n",
      "315\n",
      "316\n",
      "317\n",
      "318\n",
      "319\n",
      "320\n",
      "321\n",
      "322\n",
      "323\n",
      "324\n",
      "325\n",
      "326\n",
      "327\n",
      "328\n",
      "329\n",
      "330\n",
      "331\n",
      "332\n",
      "333\n",
      "334\n",
      "335\n",
      "336\n",
      "337\n",
      "338\n",
      "339\n",
      "340\n",
      "341\n",
      "342\n",
      "343\n",
      "344\n",
      "345\n",
      "346\n",
      "347\n",
      "348\n",
      "349\n",
      "350\n",
      "351\n",
      "352\n",
      "353\n",
      "354\n",
      "355\n",
      "356\n",
      "357\n",
      "358\n",
      "359\n",
      "360\n",
      "361\n",
      "362\n",
      "363\n",
      "364\n",
      "365\n",
      "366\n",
      "367\n",
      "368\n",
      "369\n",
      "370\n",
      "371\n",
      "372\n",
      "373\n",
      "374\n",
      "375\n",
      "376\n",
      "377\n",
      "378\n",
      "379\n",
      "380\n",
      "381\n",
      "382\n",
      "383\n",
      "384\n",
      "385\n",
      "386\n",
      "387\n",
      "388\n",
      "389\n",
      "390\n",
      "391\n",
      "392\n",
      "393\n",
      "394\n",
      "395\n",
      "396\n",
      "397\n",
      "398\n",
      "399\n",
      "400\n",
      "401\n",
      "402\n",
      "403\n",
      "404\n",
      "405\n",
      "406\n",
      "407\n",
      "408\n",
      "409\n",
      "410\n",
      "411\n",
      "412\n",
      "413\n",
      "414\n",
      "415\n",
      "416\n",
      "417\n",
      "418\n",
      "419\n",
      "420\n",
      "421\n",
      "422\n",
      "423\n",
      "424\n",
      "425\n",
      "426\n",
      "427\n",
      "428\n",
      "429\n",
      "430\n",
      "431\n",
      "432\n",
      "433\n",
      "434\n",
      "435\n",
      "436\n",
      "437\n",
      "438\n",
      "439\n",
      "440\n",
      "441\n",
      "442\n",
      "443\n",
      "444\n",
      "445\n",
      "446\n",
      "447\n",
      "448\n",
      "449\n",
      "450\n",
      "451\n",
      "452\n",
      "453\n",
      "454\n",
      "455\n",
      "456\n",
      "457\n",
      "458\n",
      "459\n",
      "460\n",
      "461\n",
      "462\n",
      "463\n",
      "464\n",
      "465\n",
      "466\n",
      "467\n",
      "468\n",
      "469\n",
      "470\n",
      "471\n",
      "472\n",
      "473\n",
      "474\n",
      "475\n",
      "476\n",
      "477\n",
      "478\n",
      "479\n",
      "480\n",
      "481\n",
      "482\n",
      "483\n",
      "484\n",
      "485\n",
      "486\n",
      "487\n",
      "488\n",
      "489\n",
      "490\n",
      "491\n",
      "492\n",
      "493\n",
      "494\n",
      "495\n",
      "496\n",
      "497\n",
      "498\n",
      "499\n",
      "500\n",
      "501\n",
      "502\n",
      "503\n",
      "504\n",
      "505\n",
      "506\n",
      "507\n",
      "508\n",
      "509\n",
      "510\n",
      "511\n",
      "512\n",
      "513\n",
      "514\n",
      "515\n",
      "516\n",
      "517\n",
      "518\n",
      "519\n",
      "520\n",
      "521\n",
      "522\n",
      "523\n",
      "524\n",
      "525\n",
      "526\n",
      "527\n",
      "528\n",
      "529\n",
      "530\n",
      "531\n",
      "532\n",
      "533\n",
      "534\n",
      "535\n",
      "536\n",
      "537\n",
      "538\n",
      "539\n",
      "540\n",
      "541\n",
      "542\n",
      "543\n",
      "544\n",
      "545\n",
      "546\n",
      "547\n",
      "548\n",
      "549\n",
      "550\n",
      "551\n",
      "552\n",
      "553\n",
      "554\n",
      "555\n",
      "556\n",
      "557\n",
      "558\n",
      "559\n",
      "560\n",
      "561\n",
      "562\n",
      "563\n",
      "564\n",
      "565\n",
      "566\n",
      "567\n",
      "568\n",
      "569\n",
      "570\n",
      "571\n",
      "572\n",
      "573\n",
      "574\n",
      "575\n",
      "576\n",
      "577\n",
      "578\n",
      "579\n",
      "580\n",
      "581\n",
      "582\n",
      "583\n",
      "584\n",
      "585\n",
      "586\n",
      "587\n",
      "588\n",
      "589\n",
      "590\n",
      "591\n",
      "592\n",
      "593\n",
      "594\n",
      "595\n",
      "596\n",
      "597\n",
      "598\n",
      "599\n",
      "600\n",
      "601\n",
      "602\n",
      "603\n",
      "604\n",
      "605\n",
      "606\n",
      "607\n",
      "608\n",
      "609\n",
      "610\n",
      "611\n",
      "612\n",
      "613\n",
      "614\n",
      "615\n",
      "616\n",
      "617\n",
      "618\n",
      "619\n",
      "620\n",
      "621\n",
      "622\n",
      "623\n",
      "624\n",
      "625\n",
      "626\n",
      "627\n",
      "628\n",
      "629\n",
      "630\n",
      "631\n",
      "632\n",
      "633\n",
      "634\n",
      "635\n",
      "636\n",
      "637\n",
      "638\n",
      "639\n",
      "640\n",
      "641\n",
      "642\n",
      "643\n"
     ]
    }
   ],
   "source": [
    "for i in range(len(L)):\n",
    "    print(i)\n",
    "    C_H[i],C_L[i],dT_mg[i],dT_dmg[i] = Prop_param((T_c[i],T_h[i],B[i]))"
   ]
  },
  {
   "cell_type": "code",
   "execution_count": 235,
   "metadata": {},
   "outputs": [],
   "source": [
    "def Prop(X,a,b,c): \n",
    "    P1,P2,P3= X\n",
    "    return (a*P1+b*P2+c*P3)"
   ]
  },
  {
   "cell_type": "code",
   "execution_count": 236,
   "metadata": {},
   "outputs": [],
   "source": [
    "Fo_H = k_s/(rho_s*2*C_H*f*(d_p/2)**2) \n",
    "Fo_L = k_s/(rho_s*2*C_L*f*(d_p/2)**2) \n",
    "\n",
    "X_H = Fo_H*np.exp(0.246196 - 0.84878*np.log(Fo_H) - 0.05639*(np.log(Fo_H))**2)\n",
    "X_L = Fo_L*np.exp(0.246196 - 0.84878*np.log(Fo_L) - 0.05639*(np.log(Fo_L))**2)\n",
    "\n",
    "DF_L = 1/(1+2*Bi/5*X_L)\n",
    "DF_H = 1/(1+2*Bi/5*X_H)\n",
    "\n",
    "#DF_L = 1\n",
    "#DF_H = 1\n",
    "\n",
    "h_int_L = Nu*k_f/d_p*DF_L\n",
    "h_int_H = Nu*k_f/d_p*DF_H"
   ]
  },
  {
   "cell_type": "code",
   "execution_count": 237,
   "metadata": {
    "scrolled": true
   },
   "outputs": [],
   "source": [
    "FE = 0.45\n",
    "\n",
    "Data = xlrd.open_workbook('AMR_Inputs_2.xlsx')\n",
    "Eff = Data.sheet_by_name('Eff2') \n",
    "\n",
    "Effect = []\n",
    "\n",
    "phi = [0.01,0.02,0.05,0.075,0.1,0.125,0.15,0.2,0.3,0.4,0.5,0.6,0.7,0.8,0.9,1]\n",
    "NTU = [10,25,50,100,150,250]\n",
    "\n",
    "for i in range(len(NTU)):\n",
    "     Effect.append(np.array(Eff.col_values(i)))\n",
    "\n",
    "#phi = np.arange(0.1,2.01,0.1)\n",
    "#NTU = np.arange(50,351,50)\n",
    "\n",
    "\n",
    "\n",
    "NN,PP = np.meshgrid(NTU,phi)\n",
    "\n",
    "Effectiv = interpolate.interp2d(phi,NTU,Effect,kind = 'linear')"
   ]
  },
  {
   "cell_type": "markdown",
   "metadata": {},
   "source": [
    "Model Parameters - Similarity"
   ]
  },
  {
   "cell_type": "code",
   "execution_count": 238,
   "metadata": {
    "scrolled": true
   },
   "outputs": [],
   "source": [
    "Pi_6 = ((m_f)*c_f)/(m_s*C_L*f)\n",
    "Pi_11 = ((m_f)*c_f)/(m_s*C_H*f)\n",
    "\n",
    "NTU_H  = h_int_H*Beta*(L*W*H*10**(-9))/(m_f*c_f) \n",
    "NTU_L  = h_int_L*Beta*(L*W*H*10**(-9))/(m_f*c_f)\n",
    "\n",
    "R_HB = (rho_f/rho_s)*(c_f/C_L)*(Epsilon/(1-Epsilon))\n",
    "R_CB = (rho_f/rho_s)*(c_f/C_H)*(Epsilon/(1-Epsilon))\n",
    "\n",
    "F_HB = 1 + 1.764*R_HB+1.0064*R_HB**2\n",
    "F_CB = 1 + 1.764*R_HB+1.0064*R_HB**2\n",
    "\n",
    "Efness_HB = np.zeros(len(Pi_6))\n",
    "Efness_CB = np.zeros(len(Pi_6))\n",
    "\n",
    "for i in range(len(Pi_6)):\n",
    "    Efness_HB[i] = Effectiv(Pi_6[i],NTU_L[i]*F_HB[i])\n",
    "    Efness_CB[i] = Effectiv(Pi_11[i],NTU_H[i]*F_CB[i])"
   ]
  },
  {
   "cell_type": "code",
   "execution_count": 239,
   "metadata": {},
   "outputs": [
    {
     "data": {
      "text/plain": [
       "1.19"
      ]
     },
     "execution_count": 239,
     "metadata": {},
     "output_type": "execute_result"
    }
   ],
   "source": [
    "B_ap[206]"
   ]
  },
  {
   "cell_type": "code",
   "execution_count": 240,
   "metadata": {},
   "outputs": [
    {
     "data": {
      "text/plain": [
       "[<matplotlib.lines.Line2D at 0x2dd53ea2f48>]"
      ]
     },
     "execution_count": 240,
     "metadata": {},
     "output_type": "execute_result"
    },
    {
     "data": {
      "image/png": "[encoded data removed]",
      "text/plain": [
       "<Figure size 432x288 with 1 Axes>"
      ]
     },
     "metadata": {
      "needs_background": "light"
     },
     "output_type": "display_data"
    }
   ],
   "source": [
    "plt.plot(Pi_6,Efness_HB,'o')\n",
    "plt.plot(Pi_11,Efness_CB,'o')"
   ]
  },
  {
   "cell_type": "markdown",
   "metadata": {},
   "source": [
    "Model Parameters - Integral"
   ]
  },
  {
   "cell_type": "code",
   "execution_count": 241,
   "metadata": {},
   "outputs": [],
   "source": [
    "FE = 0.45\n",
    "Q_pas_CB = Efness_CB*(T_h - T_c)*m_f*FE*c_f\n",
    "Q_act_CB = dT_mg*m_f*c_f*FE\n",
    "\n",
    "Q_pas_HB = Efness_HB*(T_h - T_c)*m_f*FE*c_f\n",
    "Q_act_HB = dT_dmg*m_f*c_f*FE\n",
    "\n",
    "Q_span = (T_h - T_c)*m_f*c_f*FE\n",
    "\n",
    "Q_cond = ((1-Epsilon)*k_s_eff + Epsilon*k_f_eff)*(W*H*10**-6)*(T_h-T_c)/(L*10**-3)\n",
    "Q_pump = d_P*m_f*2*FE/1000\n",
    "erro_pump = abs(Q_pump-Wp)/Q_pump*100\n",
    "\n",
    "Phizao_L = (m_s*C_L*f)/(m_s*C_L*f+ m_f*c_f)\n",
    "Phizao_H = (m_s*C_H*f)/(m_s*C_H*f+ m_f*c_f)\n",
    "\n",
    "W_mag  = m_s*f/(T_h - T_c)*(C_H*dT_mg*Phizao_H - C_L*dT_dmg*Phizao_L)"
   ]
  },
  {
   "cell_type": "code",
   "execution_count": 242,
   "metadata": {},
   "outputs": [
    {
     "data": {
      "text/plain": [
       "[<matplotlib.lines.Line2D at 0x2dd55eaa048>]"
      ]
     },
     "execution_count": 242,
     "metadata": {},
     "output_type": "execute_result"
    },
    {
     "data": {
      "image/png": "[encoded data removed]",
      "text/plain": [
       "<Figure size 432x288 with 1 Axes>"
      ]
     },
     "metadata": {
      "needs_background": "light"
     },
     "output_type": "display_data"
    }
   ],
   "source": [
    "plt.plot(Q_pump,Wp,'o')\n",
    "plt.plot(Wp,Wp)"
   ]
  },
  {
   "cell_type": "code",
   "execution_count": 243,
   "metadata": {},
   "outputs": [],
   "source": [
    "a = 0\n",
    "b = 1000"
   ]
  },
  {
   "cell_type": "code",
   "execution_count": 244,
   "metadata": {},
   "outputs": [
    {
     "data": {
      "text/plain": [
       "array([ 8.11439,  8.57391,  8.76029, 11.5891 , 12.5737 , 13.1789 ,\n",
       "       14.4709 , 16.1079 , 16.1169 , 16.741  , 16.7583 , 17.4485 ,\n",
       "       18.655  , 18.67   , 19.4148 , 19.5253 , 19.99   , 20.053  ,\n",
       "       20.26   , 20.64   , 20.77   , 21.2557 , 21.81   , 22.11   ,\n",
       "       22.4336 , 22.5594 , 22.78   , 23.34   , 23.46   , 24.23   ,\n",
       "       24.36   , 24.49   , 24.49   , 24.72   , 24.75   , 24.9197 ,\n",
       "       25.     , 25.1    , 25.14   , 25.1868 , 25.25   , 25.25   ,\n",
       "       25.47   , 25.7    , 25.88   , 26.0596 , 26.13   , 26.26   ,\n",
       "       26.4    , 26.4    , 26.6    , 26.65   , 26.7    , 26.71   ,\n",
       "       26.74   , 26.75   , 26.79   , 26.8    , 26.82   , 26.9    ,\n",
       "       27.03   , 27.06   , 27.07   , 27.11   , 27.14   , 27.24   ,\n",
       "       27.34   , 27.58   , 27.64   , 27.68   , 27.71   , 27.77   ,\n",
       "       27.78   , 27.79   , 27.94   , 28.01   , 28.18   , 28.19   ,\n",
       "       28.2    , 28.22   , 28.23   , 28.24   , 28.35   , 28.35   ,\n",
       "       28.39   , 28.4579 , 28.56   , 28.8    , 28.82   , 28.84   ,\n",
       "       29.07   , 29.08   , 29.09   , 29.11   , 29.13   , 29.14   ,\n",
       "       29.31   , 29.32   , 29.37   , 29.47   , 29.5892 , 29.6    ,\n",
       "       29.62   , 29.79   , 29.8    , 29.84   , 29.97   , 30.     ,\n",
       "       30.     , 30.01   , 30.03   , 30.03   , 30.11   , 30.16   ,\n",
       "       30.18   , 30.2    , 30.44   , 30.55   , 30.6    , 30.61   ,\n",
       "       30.65   , 30.66   , 30.71   , 30.71   , 30.75   , 30.81   ,\n",
       "       30.82   , 31.08   , 31.1    , 31.17   , 31.27   , 31.28   ,\n",
       "       31.28   , 31.3    , 31.35   , 31.35   , 31.36   , 31.4    ,\n",
       "       31.47   , 31.55   , 31.72   , 31.77   , 31.91   , 31.94   ,\n",
       "       31.96   , 31.99   , 32.17   , 32.17   , 32.49   , 32.53   ,\n",
       "       32.53   , 32.55   , 32.61   , 32.63   , 32.64   , 32.66   ,\n",
       "       32.72   , 32.78   , 32.79   , 32.85   , 32.87   , 32.88   ,\n",
       "       32.91   , 32.92   , 33.06   , 33.12   , 33.14   , 33.15   ,\n",
       "       33.24   , 33.33   , 33.33   , 33.34   , 33.38   , 33.45   ,\n",
       "       33.58   , 33.6    , 33.68   , 33.7    , 33.75   , 33.82   ,\n",
       "       33.83   , 33.86   , 33.97   , 34.15   , 34.25   , 34.27   ,\n",
       "       34.31   , 34.36   , 34.39   , 34.41   , 34.42   , 34.42   ,\n",
       "       34.44   , 34.58   , 34.6    , 34.63   , 34.72   , 34.74   ,\n",
       "       34.75   , 34.76   , 34.86   , 34.87   , 34.88   , 34.97   ,\n",
       "       34.99   , 35.06   , 35.15   , 35.17   , 35.2    , 35.22   ,\n",
       "       35.22   , 35.34   , 35.34   , 35.36   , 35.43   , 35.44   ,\n",
       "       35.45   , 35.45   , 35.48   , 35.48   , 35.49   , 35.5    ,\n",
       "       35.53   , 35.59   , 35.61   , 35.63   , 35.67   , 35.88   ,\n",
       "       35.89   , 35.95   , 36.     , 36.03   , 36.06   , 36.07   ,\n",
       "       36.18   , 36.19   , 36.27   , 36.28   , 36.35   , 36.35   ,\n",
       "       36.36   , 36.41   , 36.41   , 36.44   , 36.6    , 36.6    ,\n",
       "       36.63   , 36.65   , 36.66   , 36.71   , 36.74   , 36.77   ,\n",
       "       36.84   , 36.88   , 36.88   , 36.91   , 37.     , 37.03   ,\n",
       "       37.04   , 37.16   , 37.18   , 37.2    , 37.27   , 37.29   ,\n",
       "       37.35   , 37.36   , 37.39   , 37.52   , 37.59   , 37.68   ,\n",
       "       37.72   , 37.73   , 37.73   , 37.76   , 37.77   , 37.81   ,\n",
       "       37.81   , 37.88   , 37.89   , 38.     , 38.07   , 38.08   ,\n",
       "       38.1    , 38.11   , 38.24   , 38.24   , 38.29   , 38.4    ,\n",
       "       38.45   , 38.46   , 38.46   , 38.53   , 38.55   , 38.56   ,\n",
       "       38.61   , 38.66   , 38.66   , 38.71   , 38.72   , 38.73   ,\n",
       "       38.77   , 38.84   , 38.89   , 38.9    , 38.95   , 39.05   ,\n",
       "       39.14   , 39.18   , 39.3    , 39.31   , 39.32   , 39.33   ,\n",
       "       39.33   , 39.33   , 39.4    , 39.44   , 39.53   , 39.55   ,\n",
       "       39.57   , 39.59   , 39.61   , 39.67   , 39.67   , 39.68   ,\n",
       "       39.68   , 39.69   , 39.71   , 39.73   , 39.75   , 39.84   ,\n",
       "       39.87   , 39.9    , 39.91   , 39.91   , 39.93   , 39.98   ,\n",
       "       40.03   , 40.04   , 40.08   , 40.15   , 40.18   , 40.21   ,\n",
       "       40.26   , 40.28   , 40.29   , 40.32   , 40.33   , 40.38   ,\n",
       "       40.5    , 40.54   , 40.62   , 40.65   , 40.66   , 40.82   ,\n",
       "       40.84   , 40.86   , 40.86   , 40.88   , 40.88   , 40.89   ,\n",
       "       40.91   , 40.96   , 40.96   , 40.98   , 41.05   , 41.06   ,\n",
       "       41.07   , 41.1    , 41.14   , 41.16   , 41.31   , 41.32   ,\n",
       "       41.35   , 41.36   , 41.43   , 41.52   , 41.57   , 41.58   ,\n",
       "       41.6    , 41.65   , 41.65   , 41.65   , 41.67   , 41.69   ,\n",
       "       41.7    , 41.77   , 41.79   , 41.8    , 41.81   , 41.84   ,\n",
       "       41.95   , 41.97   , 41.99   , 42.04   , 42.06   , 42.06   ,\n",
       "       42.07   , 42.1    , 42.1    , 42.11   , 42.13   , 42.13   ,\n",
       "       42.15   , 42.18   , 42.19   , 42.22   , 42.3    , 42.36   ,\n",
       "       42.39   , 42.45   , 42.48   , 42.51   , 42.51   , 42.52   ,\n",
       "       42.55   , 42.63   , 42.64   , 42.69   , 42.72   , 42.77   ,\n",
       "       42.78   , 42.91   , 42.92   , 42.93   , 42.94   , 43.02   ,\n",
       "       43.31   , 43.32   , 43.35   , 43.37   , 43.4    , 43.45   ,\n",
       "       43.46   , 43.5    , 43.53   , 43.6    , 43.64   , 43.65   ,\n",
       "       43.69   , 43.76   , 43.78   , 43.79   , 43.84   , 43.86   ,\n",
       "       43.9    , 44.03   , 44.16   , 44.16   , 44.21   , 44.23   ,\n",
       "       44.24   , 44.24   , 44.26   , 44.52   , 44.57   , 44.7    ,\n",
       "       44.7    , 44.77   , 44.79   , 44.84   , 44.88   , 44.93   ,\n",
       "       44.94   , 45.06   , 45.2    , 45.25   , 45.25   , 45.32   ,\n",
       "       45.34   , 45.37   , 45.42   , 45.44   , 45.54   , 45.55   ,\n",
       "       45.56   , 45.57   , 45.58   , 45.63   , 45.64   , 45.64   ,\n",
       "       45.66   , 45.8    , 45.83   , 45.85   , 45.86   , 45.88   ,\n",
       "       45.89   , 45.89   , 45.95   , 45.98   , 46.16   , 46.16   ,\n",
       "       46.24   , 46.25   , 46.3    , 46.31   , 46.5    , 46.8    ,\n",
       "       46.88   , 46.97   , 46.97   , 46.98   , 46.98   , 47.04   ,\n",
       "       47.13   , 47.16   , 47.21   , 47.37   , 47.42   , 47.46   ,\n",
       "       47.64   , 47.74   , 47.75   , 47.83   , 47.84   , 47.89   ,\n",
       "       47.9    , 47.93   , 47.98   , 48.19   , 48.19   , 48.22   ,\n",
       "       48.24   , 48.25   , 48.29   , 48.31   , 48.31   , 48.44   ,\n",
       "       48.46   , 48.56   , 48.56   , 48.59   , 48.63   , 48.63   ,\n",
       "       48.67   , 48.76   , 48.78   , 48.88   , 48.9    , 48.99   ,\n",
       "       49.02   , 49.37   , 49.56   , 49.56   , 49.66   , 49.68   ,\n",
       "       49.7    , 49.92   , 49.93   , 49.96   , 50.05   , 50.15   ,\n",
       "       50.21   , 50.37   , 50.37   , 50.46   , 50.48   , 50.6    ,\n",
       "       50.65   , 50.74   , 50.74   , 50.81   , 50.87   , 50.94   ,\n",
       "       51.03   , 51.08   , 51.15   , 51.17   , 51.18   , 51.21   ,\n",
       "       51.31   , 51.33   , 51.43   , 51.45   , 51.58   , 51.6    ,\n",
       "       51.62   , 51.63   , 51.89   , 51.98   , 52.28   , 52.32   ,\n",
       "       52.35   , 52.36   , 52.39   , 52.73   , 52.85   , 52.88   ,\n",
       "       53.     , 53.07   , 53.19   , 53.21   , 53.48   , 53.61   ,\n",
       "       53.66   , 53.71   , 53.77   , 53.87   , 53.92   , 54.02   ,\n",
       "       54.59   , 54.71   , 55.09   , 55.22   , 55.28   , 55.4    ,\n",
       "       55.43   , 55.49   , 55.57   , 55.78   , 55.8    , 55.84   ,\n",
       "       56.33   , 56.4    , 56.42   , 56.58   , 56.59   , 56.69   ,\n",
       "       57.     , 57.81   , 58.18   , 58.21   , 58.23   , 58.34   ,\n",
       "       59.07   , 59.52   , 59.82   , 60.06   , 60.43   , 60.89   ,\n",
       "       60.98   , 61.13   , 61.43   , 62.23   , 63.07   , 64.27   ,\n",
       "       64.5    , 65.53   , 65.85   , 66.5    , 67.21   , 68.97   ,\n",
       "       69.05   , 71.93   ])"
      ]
     },
     "execution_count": 244,
     "metadata": {},
     "output_type": "execute_result"
    }
   ],
   "source": [
    "Wm"
   ]
  },
  {
   "cell_type": "code",
   "execution_count": 245,
   "metadata": {},
   "outputs": [],
   "source": [
    "Phizao_L = (m_s*C_L)/(m_s*C_L+ f*m_f*c_f)\n",
    "Phizao_H = (m_s*C_H)/(m_s*C_H+ f*m_f*c_f)\n",
    "\n",
    "Par1 = (C_H*dT_mg*Phizao_H)\n",
    "Par2 = (C_L*dT_dmg*Phizao_L)\n",
    "\n",
    "#Par1 = (C_H*dT_mg)\n",
    "#Par2 = (C_L*dT_dmg)\n",
    "\n",
    "\n",
    "Pi_10 = Wm/(m_s*f*(T_h - T_c))\n",
    "\n",
    "DT_ad = np.log((dT_mg + T_h)/T_c)*dT_mg\n",
    "Pi_6 = ((m_f)*c_f)/(m_s*C_L*f)\n",
    "Pi_7 = (T_h-T_c)/(dT_dmg)\n",
    "\n",
    "Pi_10 = Wm/(m_s*f)\n",
    "Pi_6 = ((m_f)*c_f)/(m_s*C_L*f)\n",
    "Pi_11 = ((m_f)*c_f)/(m_s*C_H*f)\n",
    "Pi_12 = dT_dmg/dT_mg\n",
    "K = (C_H-C_L)*(T_h - T_c)\n",
    "#K = (T_h - T_c)"
   ]
  },
  {
   "cell_type": "code",
   "execution_count": 246,
   "metadata": {},
   "outputs": [
    {
     "data": {
      "text/plain": [
       "(13048.94235906058, 0.42235346234190996)"
      ]
     },
     "execution_count": 246,
     "metadata": {},
     "output_type": "execute_result"
    }
   ],
   "source": [
    "(m_s*f*K)[186],Pi_11[186]"
   ]
  },
  {
   "cell_type": "code",
   "execution_count": 247,
   "metadata": {
    "scrolled": true
   },
   "outputs": [],
   "source": [
    "Parameters = pd.DataFrame(np.array([Q_pas_CB[a:b],Q_act_CB[a:b],Q_span[a:b],Wm[a:b],Q_pump[a:b],Q_cond[a:b],Q_pas_HB[a:b],Q_act_HB[a:b],Qc[a:b],Qh[a:b],Wp[a:b],(m_s*f*K)[a:b],Pi_11[a:b],Pi_6[a:b]]).T)\n",
    "Parameters\n",
    "Parameters.to_excel('Output.xlsx')"
   ]
  },
  {
   "cell_type": "code",
   "execution_count": 248,
   "metadata": {},
   "outputs": [],
   "source": [
    "Parameters.to_excel('Output.xlsx')"
   ]
  },
  {
   "cell_type": "code",
   "execution_count": 249,
   "metadata": {},
   "outputs": [],
   "source": [
    "from sklearn.model_selection import train_test_split\n",
    "X_train, X_test, y_train, y_test = train_test_split(Parameters,Parameters[8], test_size=0.2, random_state=42)"
   ]
  },
  {
   "cell_type": "markdown",
   "metadata": {},
   "source": [
    "from sklearn.model_selection import StratifiedShuffleSplit\n",
    "\n",
    "split = StratifiedShuffleSplit(n_splits=1, test_size=0.2, random_state=42)\n",
    "for train_index, test_index in split.split(Parameters, Parameters[8]):\n",
    "    strat_train_set = Parameters.loc[train_index]\n",
    "    strat_test_set = Parameters.loc[test_index]"
   ]
  },
  {
   "cell_type": "code",
   "execution_count": 250,
   "metadata": {},
   "outputs": [],
   "source": [
    "def fit_w(X,a,b): \n",
    "    P1,P2= X\n",
    "    return a*P1**b"
   ]
  },
  {
   "cell_type": "markdown",
   "metadata": {},
   "source": [
    "Targ = (Wm/(m_s*Par1))[a:b]\n",
    "\n",
    "Coef_w = curve_fit(fit_w,(Pi_6[a:b],Pi_11[a:b],m_s[a:b],f[a:b],Pi_7[a:b]),Targ,maxfev=1000000)\n",
    "Coef_w"
   ]
  },
  {
   "cell_type": "code",
   "execution_count": 251,
   "metadata": {},
   "outputs": [],
   "source": [
    "strat_train_set = np.array(X_train).T\n",
    "strat_test_set = np.array(X_test).T"
   ]
  },
  {
   "cell_type": "code",
   "execution_count": 252,
   "metadata": {},
   "outputs": [
    {
     "data": {
      "text/plain": [
       "(array([0.00516023, 0.84565424]),\n",
       " array([[1.33165977e-09, 2.19141595e-07],\n",
       "        [2.19141595e-07, 4.32850670e-05]]))"
      ]
     },
     "execution_count": 252,
     "metadata": {},
     "output_type": "execute_result"
    }
   ],
   "source": [
    "Coef_w = curve_fit(fit_w,(strat_train_set[12],strat_train_set[13]),strat_train_set[3]/strat_train_set[11],maxfev=1000000)\n",
    "Coef_w"
   ]
  },
  {
   "cell_type": "code",
   "execution_count": 253,
   "metadata": {},
   "outputs": [],
   "source": [
    "Wm_train = fit_w((strat_train_set[12],strat_train_set[13]),Coef_w[0][0],Coef_w[0][1])*strat_train_set[11]\n",
    "Wm_test= fit_w((strat_test_set[12],strat_test_set[13]),Coef_w[0][0],Coef_w[0][1])*strat_test_set[11]"
   ]
  },
  {
   "cell_type": "code",
   "execution_count": 254,
   "metadata": {},
   "outputs": [
    {
     "data": {
      "image/png": "[encoded data removed]",
      "text/plain": [
       "<Figure size 432x288 with 1 Axes>"
      ]
     },
     "metadata": {
      "needs_background": "light"
     },
     "output_type": "display_data"
    }
   ],
   "source": [
    "Coef = Coef_w\n",
    "Para = strat_train_set[3]\n",
    "Para_test = strat_test_set[3]\n",
    "Aux = np.linspace(Para_test.min(),Para_test.max())\n",
    "\n",
    "plt.plot(Aux,0.9*Aux,'k--')\n",
    "plt.plot(Aux,1.1*Aux,'k--')\n",
    "#plt.plot(Aux,Aux,'k--')\n",
    "\n",
    "Train = fit_w((strat_train_set[12],strat_train_set[13]),Coef_w[0][0],Coef_w[0][1])*strat_train_set[11]\n",
    "Test  = fit_w((strat_test_set[12],strat_test_set[13]),Coef_w[0][0],Coef_w[0][1])*strat_test_set[11]\n",
    "Error_train_W = np.array(abs(Para -  Train)/Para*100)\n",
    "Error_test_W  = np.array(abs(Para_test- Test)/Para_test*100)\n",
    "\n",
    "#plt.plot(strat_train_set[1] - strat_train_set[0],Error_train,'o',label = 'Train Set')\n",
    "#plt.plot(strat_test_set[1] - strat_test_set[0],Error_test,'x',label = 'Test Set')                  \n",
    "\n",
    "plt.plot(Para,Train,'o',color = '#1f77b4', mfc='none', label = 'Train Set')\n",
    "plt.plot(Para_test,Test,'x' ,color = '#2ca02c', mfc='none',label = 'Test Set',alpha = 1)\n",
    "\n",
    "#plt.text(45, 38, '$- 10 \\%$', fontsize=12)\n",
    "#plt.text(40.5, 49, '$+ 10 \\%$', fontsize=12)\n",
    "\n",
    "plt.legend()\n",
    "\n",
    "plt.ylabel(r' $\\dot{W}_\\mathrm{Mag}$ [W] - Fitted Equation')\n",
    "plt.xlabel(r' $\\dot{W}_\\mathrm{Mag}$ [W] - Numerical Solution')\n",
    "\n",
    "#plt.xlim([660,920])\n",
    "#plt.ylim([660,920])\n",
    "\n",
    "plt.grid(linestyle='dotted')\n",
    "\n",
    "plt.savefig('Wm_Results.pdf',format = 'pdf', dpi=500,bbox_inches='tight')"
   ]
  },
  {
   "cell_type": "code",
   "execution_count": 199,
   "metadata": {},
   "outputs": [
    {
     "data": {
      "text/plain": [
       "5.124223602484472"
      ]
     },
     "execution_count": 199,
     "metadata": {},
     "output_type": "execute_result"
    }
   ],
   "source": [
    "Cont = 0\n",
    "for i in range(len(Error_train_W )):\n",
    "    if Error_train_W [i] > 14:\n",
    "        Cont=Cont+1\n",
    "Cont/len(Error_train_W)*100\n",
    "\n",
    "Cont1 = 0\n",
    "for i in range(len(Error_test_W)):\n",
    "    if Error_test_W [i] > 14:\n",
    "        Cont1=Cont1+1\n",
    "Cont1/len(Error_test_W)*100\n",
    "\n",
    "(Cont+Cont1)/(len(Error_train_W )+len(Error_test_W))*100"
   ]
  },
  {
   "cell_type": "code",
   "execution_count": 200,
   "metadata": {},
   "outputs": [],
   "source": [
    "def fit_int(X,a,b,c,d,e,f): \n",
    "    P1,P2,P3,P4,P5,P6= X\n",
    "    return (a*P1+b*P2+c*P3+d*P4+e*P5+f*P6)\n",
    "    #return (a*(P1-P3)+b*P2+d*P4-1*P5)"
   ]
  },
  {
   "cell_type": "code",
   "execution_count": 201,
   "metadata": {
    "scrolled": true
   },
   "outputs": [
    {
     "data": {
      "text/plain": [
       "(array([ 0.30052771,  0.68147723, -0.28806469, -2.15738303, -2.41424247,\n",
       "        -6.49574875]),\n",
       " array([[ 2.38011605e-04,  1.24152003e-05, -2.38309074e-04,\n",
       "         -1.14997140e-03,  9.14428598e-04,  3.72663985e-03],\n",
       "        [ 1.24152003e-05,  8.39191761e-05, -1.04237952e-05,\n",
       "         -9.16840233e-04, -2.86237232e-04, -9.57345255e-04],\n",
       "        [-2.38309074e-04, -1.04237952e-05,  2.39739525e-04,\n",
       "          1.05645392e-03, -9.80957538e-04, -4.20016286e-03],\n",
       "        [-1.14997140e-03, -9.16840233e-04,  1.05645392e-03,\n",
       "          3.18148087e-02,  2.13707751e-03, -2.29476308e-03],\n",
       "        [ 9.14428598e-04, -2.86237232e-04, -9.80957538e-04,\n",
       "          2.13707751e-03,  1.20110703e-02,  3.84650251e-02],\n",
       "        [ 3.72663985e-03, -9.57345255e-04, -4.20016286e-03,\n",
       "         -2.29476308e-03,  3.84650251e-02,  3.18528813e-01]]))"
      ]
     },
     "execution_count": 201,
     "metadata": {},
     "output_type": "execute_result"
    }
   ],
   "source": [
    "Coef = curve_fit(fit_int,(strat_train_set[0],strat_train_set[1],strat_train_set[2],Wm_train,strat_train_set[4],strat_train_set[5]),strat_train_set[8],maxfev=100000)\n",
    "Wm_model = fit_w((Parameters[12],Parameters[13]),Coef_w[0][0],Coef_w[0][1])*Parameters[11]\n",
    "Qc_model = fit_int((Parameters[0],Parameters[1],Parameters[2],Wm_model,Parameters[4],Parameters[5]),Coef[0][0]  ,Coef[0][1]  ,Coef[0][2]  ,Coef[0][3]  ,Coef[0][4]  ,Coef[0][5])\n",
    "Coef"
   ]
  },
  {
   "cell_type": "markdown",
   "metadata": {},
   "source": [
    "Coef = curve_fit(fit_int,(Q_pas_CB[a:b],Q_act_CB[a:b],Q_span[a:b],Wm[a:b],Q_pump[a:b],Q_cond[a:b]),Qc[a:b],maxfev=100000, bounds = ([0,0,-1,-2,-10,-10],[10,10,0,2,0,10,]))\n",
    "Coef"
   ]
  },
  {
   "cell_type": "code",
   "execution_count": 202,
   "metadata": {},
   "outputs": [],
   "source": [
    "def fit_int_h(X,a,b,c,d,e,f): \n",
    "    P1,P2,P3,P4,P5,P6= X\n",
    "    return (a*P1+b*P2+c*P3+d*P4+e*P5+f*P6)\n",
    "    #return (a*(P1-P3)+b*P2+d*P4-1*P5)"
   ]
  },
  {
   "cell_type": "code",
   "execution_count": 203,
   "metadata": {
    "scrolled": false
   },
   "outputs": [
    {
     "data": {
      "text/plain": [
       "(array([ 0.15682506,  0.4902047 , -0.15205359, -0.45202933, -2.11633324,\n",
       "        -8.25972364]),\n",
       " array([[ 1.27103187e-04,  1.21365375e-05, -1.26194369e-04,\n",
       "         -1.17307145e-03,  5.30489757e-04,  2.38060823e-03],\n",
       "        [ 1.21365375e-05,  6.76094449e-05, -1.00469639e-05,\n",
       "         -1.13393564e-03, -3.67185145e-04, -1.16640970e-03],\n",
       "        [-1.26194369e-04, -1.00469639e-05,  1.27466696e-04,\n",
       "          9.88990128e-04, -6.51099791e-04, -3.26575779e-03],\n",
       "        [-1.17307145e-03, -1.13393564e-03,  9.88990128e-04,\n",
       "          6.05539900e-02,  7.61196973e-03,  6.98855575e-03],\n",
       "        [ 5.30489757e-04, -3.67185145e-04, -6.51099791e-04,\n",
       "          7.61196973e-03,  1.88010783e-02,  5.67809734e-02],\n",
       "        [ 2.38060823e-03, -1.16640970e-03, -3.26575779e-03,\n",
       "          6.98855575e-03,  5.67809734e-02,  5.50109711e-01]]))"
      ]
     },
     "execution_count": 203,
     "metadata": {},
     "output_type": "execute_result"
    }
   ],
   "source": [
    "Coef_h = curve_fit(fit_int_h,(strat_train_set[6],strat_train_set[7],strat_train_set[2],Wm_train,strat_train_set[4],strat_train_set[5]),strat_train_set[9],maxfev=100000)\n",
    "Coef_h"
   ]
  },
  {
   "cell_type": "markdown",
   "metadata": {},
   "source": [
    "Coef_h = curve_fit(fit_int_h,(Q_pas_HB[a:b],Q_act_HB[a:b],Q_span[a:b],Wm[a:b],Q_pump[a:b],Q_cond[a:b]),Qh[a:b],maxfev=100000, bounds = ([0,0,-10,-10,-2,-2],[10,10,0,2,2,2]))\n",
    "Coef_h"
   ]
  },
  {
   "cell_type": "code",
   "execution_count": 204,
   "metadata": {},
   "outputs": [],
   "source": [
    "Error   = abs(Qc[a:b] - fit_int  ((Q_pas_CB[a:b],Q_act_CB[a:b],Q_span[a:b],Wm[a:b],Q_pump[a:b],Q_cond[a:b]),Coef[0][0]  ,Coef[0][1]  ,Coef[0][2]  ,Coef[0][3]  ,Coef[0][4]  ,Coef[0][5]))/(Qc[a:b])*100\n",
    "Error_h = abs(Qh[a:b] - fit_int_h((Q_pas_HB[a:b],Q_act_HB[a:b],Q_span[a:b],Wm[a:b],Q_pump[a:b],Q_cond[a:b]),Coef_h[0][0],Coef_h[0][1],Coef_h[0][2],Coef_h[0][3],Coef_h[0][4],Coef_h[0][5]))/(Qh[a:b])*100"
   ]
  },
  {
   "cell_type": "code",
   "execution_count": 205,
   "metadata": {},
   "outputs": [],
   "source": [
    "Qh_model = fit_int_h((Parameters[6],Parameters[7],Parameters[2],Wm_model,Parameters[4],Parameters[5]),Coef_h[0][0]  ,Coef_h[0][1]  ,Coef_h[0][2]  ,Coef_h[0][3]  ,Coef_h[0][4]  ,Coef_h[0][5])\n",
    "\n",
    "\n",
    "Final = pd.DataFrame(np.array([Q_pas_CB[a:b],Q_act_CB[a:b],Q_span[a:b],Wm[a:b],Q_pump[a:b],Q_cond[a:b],Q_pas_HB[a:b],Q_act_HB[a:b],Qc[a:b],Qh[a:b],Wp[a:b],(m_s*f*K)[a:b],Pi_11[a:b],Pi_6[a:b],Wm_model,Qc_model,Qh_model]).T)\n",
    "Final.to_excel('Output.xlsx')"
   ]
  },
  {
   "cell_type": "code",
   "execution_count": 206,
   "metadata": {},
   "outputs": [],
   "source": [
    "Coef = curve_fit(fit_int,(strat_train_set[0],strat_train_set[1],strat_train_set[2],Wm_train,strat_train_set[4],strat_train_set[5]),strat_train_set[8],maxfev=100000, bounds = ([0,0,-1,-2,-10,-10],[10,10,0,2,0,10]))"
   ]
  },
  {
   "cell_type": "code",
   "execution_count": 207,
   "metadata": {},
   "outputs": [
    {
     "data": {
      "image/png": "[encoded data removed]",
      "text/plain": [
       "<Figure size 432x288 with 1 Axes>"
      ]
     },
     "metadata": {
      "needs_background": "light"
     },
     "output_type": "display_data"
    }
   ],
   "source": [
    "#Coef = Coef\n",
    "#Para = strat_train_set[8]\n",
    "#Para_test = strat_test_set[8]\n",
    "#Aux = np.linspace(Para.min(),Para.max())\n",
    "\n",
    "#plt.plot(strat_train_set[4],0.95*strat_train_set[4],'k--')\n",
    "#plt.plot(strat_train_set[4],1.05*strat_train_set[4],'k--')\n",
    "#plt.plot(Aux,Aux,'k--')\n",
    "\n",
    "#Train = fit_int((strat_train_set[0],strat_train_set[1],strat_train_set[2],strat_train_set[3],strat_train_set[4],strat_train_set[5]),Coef[0][0]  ,Coef[0][1]  ,Coef[0][2]  ,Coef[0][3]  ,Coef[0][4]  ,Coef[0][5])\n",
    "#Test = fit_int((strat_test_set[0],strat_test_set[1],strat_test_set[2],strat_test_set[3],strat_test_set[4],strat_test_set[5]),Coef[0][0]  ,Coef[0][1]  ,Coef[0][2]  ,Coef[0][3]  ,Coef[0][4]  ,Coef[0][5])\n",
    "\n",
    "Error_train = abs(strat_train_set[4] - strat_train_set[10])/strat_train_set[4]*100\n",
    "Error_test = abs(strat_test_set[4] - strat_test_set[10])/strat_test_set[4]*100\n",
    "\n",
    "plt.plot(strat_train_set[10],Error_train,'o',color = '#1f77b4', mfc='none', label = 'Train Set')\n",
    "plt.plot(strat_test_set[10],Error_test,'x' ,color = '#2ca02c', mfc='none',label = 'Test Set',alpha = 1)                  \n",
    "\n",
    "#plt.loglog(strat_train_set[4],strat_train_set[10],'o',color = '#1f77b4', mfc='none', label = 'Train Set')\n",
    "#plt.loglog(strat_train_set[4],strat_train_set[10],'x' ,color = '#2ca02c', mfc='none',label = 'Test Set',alpha = 1)\n",
    "\n",
    "#plt.text(120, 145, '$+ 7 \\%$', fontsize=12)\n",
    "#plt.text(130, 110, '$- 7 \\%$', fontsize=12)\n",
    "\n",
    "plt.legend()\n",
    "\n",
    "plt.ylabel(r' Error [$\\%$] - $\\dot{W}_\\mathrm{AMR,Pump}$ ')\n",
    "plt.xlabel(r' $\\dot{W}_\\mathrm{AMR,Pump}$ [W] - Numerical Solution')\n",
    "\n",
    "#plt.xlim([660,920])\n",
    "#plt.ylim([660,920])\n",
    "\n",
    "plt.grid(linestyle='dotted')\n",
    "\n",
    "#plt.savefig('dP_Results.pdf',format = 'pdf', dpi=500,bbox_inches='tight')"
   ]
  },
  {
   "cell_type": "code",
   "execution_count": 208,
   "metadata": {
    "scrolled": true
   },
   "outputs": [
    {
     "data": {
      "image/png": "[encoded data removed]",
      "text/plain": [
       "<Figure size 432x288 with 1 Axes>"
      ]
     },
     "metadata": {
      "needs_background": "light"
     },
     "output_type": "display_data"
    }
   ],
   "source": [
    "Coef = Coef\n",
    "Para = strat_train_set[8]\n",
    "Para_test = strat_test_set[8]\n",
    "Aux = np.linspace(Para.min(),Para.max())\n",
    "\n",
    "plt.plot(Aux,0.9*Aux,'k--')\n",
    "plt.plot(Aux,1.1*Aux,'k--')\n",
    "#plt.plot(Aux,Aux,'k--')\n",
    "\n",
    "Train = fit_int((strat_train_set[0],strat_train_set[1],strat_train_set[2],Wm_train,strat_train_set[4],strat_train_set[5]),Coef[0][0]  ,Coef[0][1]  ,Coef[0][2]  ,Coef[0][3]  ,Coef[0][4]  ,Coef[0][5])\n",
    "Test = fit_int((strat_test_set[0],strat_test_set[1],strat_test_set[2],Wm_test,strat_test_set[4],strat_test_set[5]),Coef[0][0]  ,Coef[0][1]  ,Coef[0][2]  ,Coef[0][3]  ,Coef[0][4]  ,Coef[0][5])\n",
    "\n",
    "Error_train_Qc = np.array(abs(Para -  Train)/Para*100)\n",
    "Error_test_Qc  = np.array(abs(Para_test- Test)/Para_test*100)\n",
    "\n",
    "#plt.plot(strat_train_set[1] - strat_train_set[0],Error_train,'o',label = 'Train Set')\n",
    "#plt.plot(strat_test_set[1] - strat_test_set[0],Error_test,'x',label = 'Test Set')                  \n",
    "\n",
    "plt.plot(Para,Train,'o',color = '#1f77b4', mfc='none', label = 'Train Set')\n",
    "plt.plot(Para_test,Test,'x' ,color = '#2ca02c', mfc='none',label = 'Test Set',alpha = 1)\n",
    "\n",
    "plt.text(140, 180, '$+ 10 \\%$', fontsize=12)\n",
    "plt.text(150, 120, '$- 10 \\%$', fontsize=12)\n",
    "\n",
    "plt.legend()\n",
    "\n",
    "plt.ylabel(r' $\\dot{Q}_\\mathrm{C}$ [W] - Fitted Equation')\n",
    "plt.xlabel(r' $\\dot{Q}_\\mathrm{C}$ [W] - Numerical Solution')\n",
    "\n",
    "#plt.xlim([660,920])\n",
    "#plt.ylim([660,920])\n",
    "\n",
    "plt.grid(linestyle='dotted')\n",
    "\n",
    "plt.savefig('Qc_Results_simp.pdf',format = 'pdf', dpi=500,bbox_inches='tight')"
   ]
  },
  {
   "cell_type": "code",
   "execution_count": 209,
   "metadata": {},
   "outputs": [
    {
     "data": {
      "text/plain": [
       "20.96273291925466"
      ]
     },
     "execution_count": 209,
     "metadata": {},
     "output_type": "execute_result"
    }
   ],
   "source": [
    "Cont = 0\n",
    "for i in range(len(Error_train_Qc )):\n",
    "    if Error_train_Qc [i] > 10:\n",
    "        Cont=Cont+1\n",
    "Cont/len(Error_train_Qc)*100\n",
    "\n",
    "Cont1 = 0\n",
    "for i in range(len(Error_test_Qc )):\n",
    "    if Error_test_Qc [i] > 10:\n",
    "        Cont1=Cont1+1\n",
    "Cont1/len(Error_test_Qc)*100\n",
    "\n",
    "(Cont+Cont1)/(len(Error_train_Qc )+len(Error_test_Qc ))*100"
   ]
  },
  {
   "cell_type": "code",
   "execution_count": 210,
   "metadata": {},
   "outputs": [],
   "source": [
    "Train_Qc = fit_int((strat_train_set[0],strat_train_set[1],strat_train_set[2],strat_train_set[3],strat_train_set[4],strat_train_set[5]),Coef[0][0]  ,Coef[0][1]  ,Coef[0][2]  ,Coef[0][3]  ,Coef[0][4]  ,Coef[0][5])\n",
    "Test_Qc = fit_int((strat_test_set[0],strat_test_set[1],strat_test_set[2],strat_test_set[3],strat_test_set[4],strat_test_set[5]),Coef[0][0]  ,Coef[0][1]  ,Coef[0][2]  ,Coef[0][3]  ,Coef[0][4]  ,Coef[0][5])"
   ]
  },
  {
   "cell_type": "code",
   "execution_count": 211,
   "metadata": {
    "scrolled": true
   },
   "outputs": [
    {
     "data": {
      "text/plain": [
       "[<matplotlib.lines.Line2D at 0x2dd55cd9888>]"
      ]
     },
     "execution_count": 211,
     "metadata": {},
     "output_type": "execute_result"
    },
    {
     "data": {
      "image/png": "[encoded data removed]",
      "text/plain": [
       "<Figure size 432x288 with 1 Axes>"
      ]
     },
     "metadata": {
      "needs_background": "light"
     },
     "output_type": "display_data"
    }
   ],
   "source": [
    "plt.plot(Error_train_Qc,'o')\n",
    "plt.plot(Error_test_Qc,'o')"
   ]
  },
  {
   "cell_type": "code",
   "execution_count": 212,
   "metadata": {},
   "outputs": [],
   "source": [
    "def fit_int_h(X,a,b,c,d,e,f): \n",
    "    P1,P2,P3,P4,P5,P6= X\n",
    "    return (a*P1+b*P2+c*P3+d*P4+e*P5+f*P6)\n",
    "    #return (a*P1+b*P2-c*P3+d*P4+e*P5+f*P6)\n",
    "    #return (a*(P1-P3)+b*P2+d*P4+1*P5+0*P6)"
   ]
  },
  {
   "cell_type": "code",
   "execution_count": 213,
   "metadata": {},
   "outputs": [
    {
     "data": {
      "text/plain": [
       "(array([ 0.15682506,  0.49020469, -0.15205359, -0.45202908, -2.11633316,\n",
       "        -8.25972337]),\n",
       " array([[ 1.27103193e-04,  1.21365416e-05, -1.26194375e-04,\n",
       "         -1.17307178e-03,  5.30489664e-04,  2.38060838e-03],\n",
       "        [ 1.21365416e-05,  6.76094480e-05, -1.00469677e-05,\n",
       "         -1.13393577e-03, -3.67185176e-04, -1.16640973e-03],\n",
       "        [-1.26194375e-04, -1.00469677e-05,  1.27466701e-04,\n",
       "          9.88990456e-04, -6.51099697e-04, -3.26575790e-03],\n",
       "        [-1.17307178e-03, -1.13393577e-03,  9.88990456e-04,\n",
       "          6.05539973e-02,  7.61197013e-03,  6.98854874e-03],\n",
       "        [ 5.30489664e-04, -3.67185176e-04, -6.51099697e-04,\n",
       "          7.61197013e-03,  1.88010782e-02,  5.67809722e-02],\n",
       "        [ 2.38060838e-03, -1.16640973e-03, -3.26575790e-03,\n",
       "          6.98854874e-03,  5.67809722e-02,  5.50109711e-01]]))"
      ]
     },
     "execution_count": 213,
     "metadata": {},
     "output_type": "execute_result"
    }
   ],
   "source": [
    "Coef_h = curve_fit(fit_int_h,(strat_train_set[6],strat_train_set[7],strat_train_set[2],Wm_train,strat_train_set[4],strat_train_set[5]),strat_train_set[9],maxfev=100000, bounds = ([0,0,-10,-10,-10,-20],[2,1,2,2,1.5,10]))\n",
    "Coef_h"
   ]
  },
  {
   "cell_type": "code",
   "execution_count": 214,
   "metadata": {},
   "outputs": [
    {
     "data": {
      "image/png": "[encoded data removed]",
      "text/plain": [
       "<Figure size 432x288 with 1 Axes>"
      ]
     },
     "metadata": {
      "needs_background": "light"
     },
     "output_type": "display_data"
    }
   ],
   "source": [
    "Coef = Coef_h\n",
    "Para = strat_train_set[9]\n",
    "Para_test = strat_test_set[9]\n",
    "Aux = np.linspace(Para.min(),Para.max())\n",
    "\n",
    "plt.plot(Aux,0.9*Aux,'k--')\n",
    "plt.plot(Aux,1.1*Aux,'k--')\n",
    "#plt.plot(Aux,Aux,'k--')\n",
    "\n",
    "Train = fit_int_h((strat_train_set[6],strat_train_set[7],strat_train_set[2],strat_train_set[3],strat_train_set[4],strat_train_set[5]),Coef[0][0]  ,Coef[0][1]  ,Coef[0][2]  ,Coef[0][3]  ,Coef[0][4]  ,Coef[0][5])\n",
    "Test = fit_int_h((strat_test_set[6],strat_test_set[7],strat_test_set[2],strat_test_set[3],strat_test_set[4],strat_test_set[5]),Coef[0][0]  ,Coef[0][1]  ,Coef[0][2]  ,Coef[0][3]  ,Coef[0][4]  ,Coef[0][5])\n",
    "\n",
    "Error_train_Qh = np.array(abs(Para -  Train)/Para*100)\n",
    "Error_test_Qh  = np.array(abs(Para_test- Test)/Para_test*100)\n",
    "\n",
    "#plt.plot(strat_train_set[1] - strat_train_set[0],Error_train,'o',label = 'Train Set')\n",
    "#plt.plot(strat_test_set[1] - strat_test_set[0],Error_test,'x',label = 'Test Set')                  \n",
    "\n",
    "plt.plot(Para,Train,'o',color = '#1f77b4', mfc='none', label = 'Train Set')\n",
    "plt.plot(Para_test,Test,'x' ,color = '#2ca02c', mfc='none',label = 'Test Set',alpha = 1)\n",
    "\n",
    "plt.text(125, 190, '$+ 10 \\%$', fontsize=12)\n",
    "plt.text(180, 140, '$- 10 \\%$', fontsize=12)\n",
    "\n",
    "plt.legend()\n",
    "\n",
    "plt.ylabel(r' $\\dot{Q}_\\mathrm{H}$ [W] - Fitted Equation')\n",
    "plt.xlabel(r' $\\dot{Q}_\\mathrm{H}$ [W] - Numerical Solution')\n",
    "\n",
    "#plt.xlim([660,920])\n",
    "#plt.ylim([660,920])\n",
    "\n",
    "plt.grid(linestyle='dotted')\n",
    "\n",
    "plt.savefig('Qh_Results_simp.pdf',format = 'pdf', dpi=500,bbox_inches='tight')"
   ]
  },
  {
   "cell_type": "code",
   "execution_count": 89,
   "metadata": {},
   "outputs": [],
   "source": [
    "Train_Qh = fit_int_h((strat_train_set[6],strat_train_set[7],strat_train_set[2],strat_train_set[3],strat_train_set[4],strat_train_set[5]),Coef[0][0]  ,Coef[0][1]  ,Coef[0][2]  ,Coef[0][3]  ,Coef[0][4]  ,Coef[0][5])\n",
    "Test_Qh = fit_int_h((strat_test_set[6],strat_test_set[7],strat_test_set[2],strat_test_set[3],strat_test_set[4],strat_test_set[5]),Coef[0][0]  ,Coef[0][1]  ,Coef[0][2]  ,Coef[0][3]  ,Coef[0][4]  ,Coef[0][5])"
   ]
  },
  {
   "cell_type": "code",
   "execution_count": 90,
   "metadata": {},
   "outputs": [
    {
     "data": {
      "text/plain": [
       "17.96116504854369"
      ]
     },
     "execution_count": 90,
     "metadata": {},
     "output_type": "execute_result"
    }
   ],
   "source": [
    "Cont = 0\n",
    "for i in range(len(Error_train_Qh )):\n",
    "    if Error_train_Qh [i] > 10:\n",
    "        Cont=Cont+1\n",
    "Cont/len(Error_train_Qh)*100\n",
    "\n",
    "Cont1 = 0\n",
    "for i in range(len(Error_test_Qh )):\n",
    "    if Error_test_Qh [i] > 10:\n",
    "        Cont1=Cont1+1\n",
    "Cont1/len(Error_test_Qh)*100\n",
    "\n",
    "(Cont+Cont1)/(len(Error_train_Qh )+len(Error_test_Qh ))*100"
   ]
  },
  {
   "cell_type": "code",
   "execution_count": 485,
   "metadata": {},
   "outputs": [
    {
     "data": {
      "text/plain": [
       "9.090909090909092"
      ]
     },
     "execution_count": 485,
     "metadata": {},
     "output_type": "execute_result"
    }
   ],
   "source": [
    "Cont1 = 0\n",
    "for i in range(len(Error_test_Qh )):\n",
    "    if Error_test_Qh [i] > 10:\n",
    "        Cont1=Cont1+1\n",
    "Cont1/len(Error_test_Qh)*100"
   ]
  },
  {
   "cell_type": "code",
   "execution_count": 1028,
   "metadata": {},
   "outputs": [
    {
     "data": {
      "text/plain": [
       "7.633587786259542"
      ]
     },
     "execution_count": 1028,
     "metadata": {},
     "output_type": "execute_result"
    }
   ],
   "source": [
    "(Cont+Cont1)/(len(Error_train_Qh )+len(Error_test_Qh ))*100"
   ]
  },
  {
   "cell_type": "code",
   "execution_count": null,
   "metadata": {
    "scrolled": true
   },
   "outputs": [],
   "source": [
    "plt.plot(strat_train_set[9],Error_train_Qh,'s', label = '$\\dot{Q}_\\mathrm{h}$')\n",
    "plt.plot(strat_test_set[9],Error_test_Qh,'o',label ='$\\dot{Q}_\\mathrm{c}$' )\n",
    "plt.plot(strat_train_set[8],Error_train_Qc,'s', label = '$\\dot{Q}_\\mathrm{h}$')\n",
    "plt.plot(strat_test_set[8],Error_test_Qc,'o',label ='$\\dot{Q}_\\mathrm{c}$' )\n",
    "\n",
    "\n",
    "#plt.plot(Pi_6[a:b],Error_sim,'o',label ='$\\dot{Q}_\\mathrm{c}$' )\n",
    "\n",
    "plt.grid()\n",
    "plt.xlabel('Numerical Cooling Capacity [W]')\n",
    "plt.ylabel('Error [\\%]')\n",
    "plt.legend()\n",
    "#plt.ylim(0,50)\n",
    "#plt.xlim(150,300)\n",
    "\n",
    "#plt.ylim([0,50])\n",
    "plt.savefig('Erro_Rest.png',format = 'png', dpi=500,bbox_inches='tight')\n",
    "plt.show()"
   ]
  },
  {
   "cell_type": "code",
   "execution_count": 1013,
   "metadata": {},
   "outputs": [
    {
     "data": {
      "text/plain": [
       "16.030534351145036"
      ]
     },
     "execution_count": 1013,
     "metadata": {},
     "output_type": "execute_result"
    }
   ],
   "source": []
  },
  {
   "cell_type": "code",
   "execution_count": null,
   "metadata": {},
   "outputs": [],
   "source": [
    "Train_Qc = fit_int((strat_train_set[0],strat_train_set[1],strat_train_set[2],strat_train_set[3],strat_train_set[4],strat_train_set[5]),Coef[0][0]  ,Coef[0][1]  ,Coef[0][2]  ,Coef[0][3]  ,Coef[0][4]  ,Coef[0][5])\n",
    "Test_Qc = fit_int((strat_test_set[0],strat_test_set[1],strat_test_set[2],strat_test_set[3],strat_test_set[4],strat_test_set[5]),Coef[0][0]  ,Coef[0][1]  ,Coef[0][2]  ,Coef[0][3]  ,Coef[0][4]  ,Coef[0][5])\n"
   ]
  },
  {
   "cell_type": "code",
   "execution_count": null,
   "metadata": {
    "scrolled": true
   },
   "outputs": [],
   "source": [
    "plt.plot(Qc[a:b],Error_sim,'o')"
   ]
  },
  {
   "cell_type": "code",
   "execution_count": null,
   "metadata": {},
   "outputs": [],
   "source": [
    "K = 0\n",
    "for i in range(len(Error_sim)):\n",
    "    if Error_sim[i] > 13:\n",
    "        K = K+1\n",
    "K/len(Error_sim)*100"
   ]
  },
  {
   "cell_type": "code",
   "execution_count": null,
   "metadata": {},
   "outputs": [],
   "source": [
    "plt.plot(W_m[a:b],(m_s[a:b]*f[a:b]*CdT_dmg[a:b])*fit_sim((Pi_6[a:b],Pi_4[a:b],Pi_11[a:b]),Coef_sim[0][0],Coef_sim[0][1],Coef_sim[0][2],Coef_sim[0][3],Coef_sim[0][4],Coef_sim[0][5]),'o',label ='Integral' )"
   ]
  },
  {
   "cell_type": "code",
   "execution_count": null,
   "metadata": {},
   "outputs": [],
   "source": [
    "erro= np.arange(100,230,1)\n",
    "erro_h= np.arange(100,275,1)"
   ]
  },
  {
   "cell_type": "code",
   "execution_count": null,
   "metadata": {
    "scrolled": false
   },
   "outputs": [],
   "source": [
    "#plt.plot(Q_c[a:b],m_s[a:b]*f[a:b]*CdT_dmg[a:b]*fit_sim((Pi_6[a:b],Pi_4[a:b]),Coef_sim[0][0],Coef_sim[0][1],Coef_sim[0][2],Coef_sim[0][3]),'s', label = 'Similarity')\n",
    "plt.plot(Q_c[a:b],fit_int((Q_pas_CB[a:b],Q_act_CB[a:b],Q_span[a:b],W_mag[a:b],W_p[a:b]),Coef[0][0],Coef[0][1],Coef[0][2],Coef[0][3],Coef[0][4]),'o',label ='Integral' )\n",
    "plt.plot(erro,0.9*erro,'k--')\n",
    "plt.plot(erro,1.1*erro,'k--')\n",
    "plt.grid()\n",
    "plt.ylabel('Analytical Cooling Capacity [W]')\n",
    "plt.xlabel('Numerical Cooling Capacity [W]')\n",
    "plt.legend()\n",
    "\n",
    "plt.savefig('ErrorBar.png',format = 'png', dpi=500,bbox_inches='tight')\n",
    "plt.show()"
   ]
  },
  {
   "cell_type": "code",
   "execution_count": null,
   "metadata": {},
   "outputs": [],
   "source": [
    "#plt.plot(Q_c[a:b],m_s[a:b]*f[a:b]*CdT_dmg[a:b]*fit_sim((Pi_6[a:b],Pi_4[a:b]),Coef_sim[0][0],Coef_sim[0][1],Coef_sim[0][2],Coef_sim[0][3]),'s', label = 'Similarity')\n",
    "plt.plot(Q_h[a:b],fit_int((Q_pas_HB[a:b],Q_act_HB[a:b],Q_span[a:b],W_mag[a:b],W_p[a:b]),Coef_h[0][0],Coef_h[0][1],Coef_h[0][2],Coef_h[0][3],Coef_h[0][4]),'o',label ='Integral' )\n",
    "plt.plot(erro_h,0.9*erro_h,'k--')\n",
    "plt.plot(erro_h,1.1*erro_h,'k--')\n",
    "plt.grid()\n",
    "plt.ylabel('Analytical Cooling Capacity [W]')\n",
    "plt.xlabel('Numerical Cooling Capacity [W]')\n",
    "plt.legend()\n",
    "\n",
    "plt.savefig('ErrorBar.png',format = 'png', dpi=500,bbox_inches='tight')\n",
    "plt.show()"
   ]
  },
  {
   "cell_type": "code",
   "execution_count": null,
   "metadata": {},
   "outputs": [],
   "source": [
    "plt.plot(Q_c[a:b],m_s[a:b]*f[a:b]*CdT_dmg[a:b]*fit_sim((Pi_6[a:b],Pi_4[a:b]),Coef_sim[0][0],Coef_sim[0][1],Coef_sim[0][2],Coef_sim[0][3]),'o')\n",
    "plt.plot(erro,0.9*erro,'k--')\n",
    "plt.plot(erro,1.1*erro,'k--')\n",
    "plt.ylabel('Integral Cooling Capacity [W]')\n",
    "plt.xlabel('Numerical Cooling Capacity [W]')\n",
    "#plt.legend()\n",
    "plt.show()\n",
    "plt.savefig('X_l.pdf',format = 'pdf', dpi=500,bbox_inches='tight')"
   ]
  },
  {
   "cell_type": "code",
   "execution_count": null,
   "metadata": {
    "scrolled": true
   },
   "outputs": [],
   "source": [
    "plt.plot(Pi_6[0:72],Pi_10[0:72],'o',label = 'B = 1.1 T')\n",
    "plt.plot(Pi_6[72:144],Pi_10[72:144],'o',label = 'B = 1.3 T')\n",
    "plt.plot(Pi_6[144:216],Pi_10[144:216],'o',label = 'B = 1.5 T')\n",
    "plt.plot(Pi_6[216:288],Pi_10[216:288],'o',label = 'B = 1.6 T')\n",
    "plt.grid()\n",
    "plt.xlabel('$\\phi$ [-]')\n",
    "plt.ylabel('$\\dot{W}_\\mathrm{M}^*$ [-]')\n",
    "plt.legend()\n",
    "plt.show()"
   ]
  },
  {
   "cell_type": "code",
   "execution_count": null,
   "metadata": {},
   "outputs": [],
   "source": [
    "plt.plot(Pi_6[0:72],Pi_9[0:72],'o',label = 'B = 1.1 T')\n",
    "plt.plot(Pi_6[72:144],Pi_9[72:144],'o',label = 'B = 1.3 T')\n",
    "plt.plot(Pi_6[144:216],Pi_9[144:216],'o',label = 'B = 1.5 T')\n",
    "plt.plot(Pi_6[216:288],Pi_9[216:288],'o',label = 'B = 1.6 T')\n",
    "plt.grid()\n",
    "plt.xlabel('$\\phi$ [-]')\n",
    "plt.ylabel('$\\dot{Q}_\\mathrm{H}^*$ [-]')\n",
    "plt.legend()\n",
    "plt.show()"
   ]
  },
  {
   "cell_type": "code",
   "execution_count": null,
   "metadata": {},
   "outputs": [],
   "source": [
    "a = 0*72\n",
    "b = 4*72"
   ]
  },
  {
   "cell_type": "code",
   "execution_count": null,
   "metadata": {
    "scrolled": false
   },
   "outputs": [],
   "source": [
    "Coef_Wm = curve_fit(fitting_W,(Pi_6[a:b],Pi_4[a:b]),Pi_10[a:b],maxfev=10000)\n",
    "Coef_Wm"
   ]
  },
  {
   "cell_type": "code",
   "execution_count": null,
   "metadata": {
    "scrolled": false
   },
   "outputs": [],
   "source": [
    "plt.plot(Pi_6[a:b],Pi_8[a:b],'o')\n",
    "plt.plot(Pi_6[a:b],fitting((Pi_6[a:b],Pi_4[a:b]),Coef[0][0],Coef[0][1],Coef[0][2],Coef[0][3]),'o')"
   ]
  },
  {
   "cell_type": "code",
   "execution_count": null,
   "metadata": {
    "scrolled": true
   },
   "outputs": [],
   "source": [
    "plt.plot(Pi_6[a:b],Pi_9[a:b],'o')\n",
    "plt.plot(Pi_6[a:b],fitting((Pi_6[a:b],Pi_4[a:b]),Coef_Qh[0][0],Coef_Qh[0][1],Coef_Qh[0][2],Coef_Qh[0][3]),'o')"
   ]
  },
  {
   "cell_type": "code",
   "execution_count": null,
   "metadata": {
    "scrolled": true
   },
   "outputs": [],
   "source": [
    "plt.plot(Pi_6[a:b],Pi_10[a:b],'o')\n",
    "plt.plot(Pi_6[a:b],fitting_W((Pi_6[a:b],Pi_4[a:b]),Coef_Wm[0][0],Coef_Wm[0][1],Coef_Wm[0][2],0,Coef_Wm[0][4]),'o')"
   ]
  },
  {
   "cell_type": "code",
   "execution_count": null,
   "metadata": {},
   "outputs": [],
   "source": [
    "erro1 = abs((Pi_8 - fitting((Pi_6[a:b],Pi_4[a:b]),Coef[0][0],Coef[0][1],Coef[0][2],Coef[0][3]))/Pi_8*100)\n",
    "erro2 = abs((Pi_9 - fitting((Pi_6[a:b],Pi_4[a:b]),Coef_Qh[0][0],Coef_Qh[0][1],Coef_Qh[0][2],Coef_Qh[0][3]))/Pi_9*100)\n",
    "erro3 = abs((Pi_10 - fitting_W((Pi_6[a:b],Pi_4[a:b]),Coef_Wm[0][0],Coef_Wm[0][1],Coef_Wm[0][2],Coef_Wm[0][3],Coef_Wm[0][4]))/Pi_10*100)\n",
    "j=0\n",
    "h=0\n",
    "k=0\n",
    "for i in range(len(erro1)):\n",
    "    if erro1[i] >= 10:\n",
    "        j = j+1\n",
    "    if erro2[i] >= 10:\n",
    "        h = h+1\n",
    "    if erro3[i] >= 10:\n",
    "        k = k+1\n",
    "j/len(erro1),h/len(erro2),k/len(erro3)"
   ]
  },
  {
   "cell_type": "code",
   "execution_count": null,
   "metadata": {
    "scrolled": true
   },
   "outputs": [],
   "source": [
    "plt.plot(Pi_6,Q_c,'o')"
   ]
  },
  {
   "cell_type": "code",
   "execution_count": null,
   "metadata": {
    "scrolled": true
   },
   "outputs": [],
   "source": [
    "plt.plot(Pi_6,erro1,'o')\n",
    "plt.ylim([0,25])"
   ]
  },
  {
   "cell_type": "code",
   "execution_count": null,
   "metadata": {
    "scrolled": true
   },
   "outputs": [],
   "source": [
    "plt.plot(Pi_6,erro1,'o',label = '$\\dot{Q}_\\mathrm{C}$')\n",
    "plt.plot(Pi_6,erro2,'o',label = '$\\dot{Q}_\\mathrm{H}$')\n",
    "plt.plot(Pi_6,erro3,'o',label = '$\\dot{W}_\\mathrm{M}$')\n",
    "plt.ylim(0,30)\n",
    "plt.xlabel('$\\phi$ [-]')\n",
    "plt.legend()\n",
    "plt.ylabel('Error [$\\%$]')\n",
    "plt.grid()"
   ]
  },
  {
   "cell_type": "code",
   "execution_count": null,
   "metadata": {},
   "outputs": [],
   "source": [
    "plt.plot(Pi_6,erro3,'o')"
   ]
  },
  {
   "cell_type": "code",
   "execution_count": null,
   "metadata": {},
   "outputs": [],
   "source": [
    "plt.plot(Pi_8,fitting((Pi_6,Pi_7),Coef[0][0],Coef[0][1],Coef[0][2]),'o')\n",
    "plt.plot(Pi_8,0.9*Pi_8)\n",
    "plt.plot(Pi_8,1.1*Pi_8)\n",
    "plt.grid()"
   ]
  },
  {
   "cell_type": "code",
   "execution_count": null,
   "metadata": {},
   "outputs": [],
   "source": [
    "error_bar = np.arange(0,700)"
   ]
  },
  {
   "cell_type": "code",
   "execution_count": null,
   "metadata": {},
   "outputs": [],
   "source": [
    "K = (m_s*f*CdT_dmg)\n",
    "plt.plot(Pi_8[0:72]*K[0:72],K[0:72]*fitting((Pi_6[0:72],Pi_4[0:72]),Coef[0][0],Coef[0][1],Coef[0][2],Coef[0][3]),'o', label = 'B = 1.1 T')\n",
    "plt.plot(Pi_8[72:2*72]*K[72:2*72],K[72:2*72]*fitting((Pi_6[72:2*72],Pi_4[72:2*72]),Coef[0][0],Coef[0][1],Coef[0][2],Coef[0][3]),'X', label = 'B = 1.3 T')\n",
    "plt.plot(Pi_8[2*72:3*72]*K[2*72:3*72],K[2*72:3*72]*fitting((Pi_6[2*72:3*72],Pi_4[2*72:3*72]),Coef[0][0],Coef[0][1],Coef[0][2],Coef[0][3]),'s', label = 'B = 1.5 T')\n",
    "plt.plot(Pi_8[3*72:4*72]*K[3*72:4*72],K[3*72:4*72]*fitting((Pi_6[3*72:4*72],Pi_4[3*72:4*72]),Coef[0][0],Coef[0][1],Coef[0][2],Coef[0][3]),'^', label = 'B = 1.6 T')\n",
    "plt.plot(error_bar,0.92*error_bar,'k--')\n",
    "plt.plot(error_bar,1.08*error_bar,'k--')\n",
    "plt.text(100,80,'- 8\\%')\n",
    "plt.text(80,110,'+ 8\\%')\n",
    "\n",
    "\n",
    "plt.xlabel('Numerical Cooling Capacity [W]')\n",
    "plt.ylabel('Fitting Cooling Capacity [W]')\n",
    "\n",
    "plt.grid()\n",
    "plt.legend()\n",
    "plt.xlim(0,180)\n",
    "plt.ylim(0,180)"
   ]
  },
  {
   "cell_type": "code",
   "execution_count": null,
   "metadata": {},
   "outputs": [],
   "source": [
    "plt.plot((Pi_9*K)[0:72],K[0:72]*fitting((Pi_6[0:72],Pi_4[0:72]),Coef_Qh[0][0],Coef_Qh[0][1],Coef_Qh[0][2],Coef_Qh[0][3]),'o', label = 'B = 1.1 T')\n",
    "plt.plot((Pi_9*K)[72:2*72],K[72:144]*fitting((Pi_6[72:2*72],Pi_4[72:2*72]),Coef_Qh[0][0],Coef_Qh[0][1],Coef_Qh[0][2],Coef_Qh[0][3]),'X', label = 'B = 1.3 T')\n",
    "plt.plot((Pi_9*K)[2*72:3*72],K[144:216]*fitting((Pi_6[2*72:3*72],Pi_4[2*72:3*72]),Coef_Qh[0][0],Coef_Qh[0][1],Coef_Qh[0][2],Coef_Qh[0][3]),'s', label = 'B = 1.5 T')\n",
    "plt.plot((Pi_9*K)[3*72:4*72],K[216:288]*fitting((Pi_6[3*72:4*72],Pi_4[3*72:4*72]),Coef_Qh[0][0],Coef_Qh[0][1],Coef_Qh[0][2],Coef_Qh[0][3]),'^', label = 'B = 1.6 T')\n",
    "plt.plot(error_bar,0.9*error_bar,'k--')\n",
    "plt.plot(error_bar,1.1*error_bar,'k--')\n",
    "plt.text(300,230,'- 10\\%')\n",
    "plt.text(250,350,'+ 10\\%')\n",
    "\n",
    "\n",
    "plt.xlabel('Numerical Rejected Heat [W]')\n",
    "plt.ylabel('Fitting Rejected Heat [W]')\n",
    "\n",
    "plt.grid()\n",
    "plt.legend()\n",
    "plt.xlim(20,550)\n",
    "plt.ylim(20,550)"
   ]
  },
  {
   "cell_type": "code",
   "execution_count": null,
   "metadata": {},
   "outputs": [],
   "source": [
    "plt.plot((Pi_10*K)[0:72],K[0:72]*fitting_W((Pi_6[0:72],Pi_4[0:72]),Coef_Wm[0][0],Coef_Wm[0][1],Coef_Wm[0][2],Coef_Wm[0][3],Coef_Wm[0][4]),'o', label = 'B = 1.1 T')\n",
    "plt.plot((Pi_10*K)[72:2*72],K[72:144]*fitting_W((Pi_6[72:2*72],Pi_4[72:2*72]),Coef_Wm[0][0],Coef_Wm[0][1],Coef_Wm[0][2],Coef_Wm[0][3],Coef_Wm[0][4]),'X', label = 'B = 1.3 T')\n",
    "plt.plot((Pi_10*K)[2*72:3*72],K[144:216]*fitting_W((Pi_6[2*72:3*72],Pi_4[2*72:3*72]),Coef_Wm[0][0],Coef_Wm[0][1],Coef_Wm[0][2],Coef_Wm[0][3],Coef_Wm[0][4]),'s', label = 'B = 1.5 T')\n",
    "plt.plot((Pi_10*K)[3*72:4*72],K[216:288]*fitting_W((Pi_6[3*72:4*72],Pi_4[3*72:4*72]),Coef_Wm[0][0],Coef_Wm[0][1],Coef_Wm[0][2],Coef_Wm[0][3],Coef_Wm[0][4]),'^', label = 'B = 1.6 T')\n",
    "plt.plot(error_bar,0.9*error_bar,'k--')\n",
    "plt.plot(error_bar,1.1*error_bar,'k--')\n",
    "plt.text(40,31.5,'- 8\\%')\n",
    "plt.text(31.5,45,'+ 8\\%')\n",
    "\n",
    "\n",
    "plt.xlabel('Numerical Magnetic Work[W]')\n",
    "plt.ylabel('Fitting Magnetic Work [W]')\n",
    "\n",
    "plt.grid()\n",
    "plt.legend()\n",
    "plt.xlim(5,70)\n",
    "plt.ylim(5,70)"
   ]
  },
  {
   "cell_type": "code",
   "execution_count": null,
   "metadata": {},
   "outputs": [],
   "source": []
  }
 ],
 "metadata": {
  "kernelspec": {
   "display_name": "Python 3",
   "language": "python",
   "name": "python3"
  },
  "language_info": {
   "codemirror_mode": {
    "name": "ipython",
    "version": 3
   },
   "file_extension": ".py",
   "mimetype": "text/x-python",
   "name": "python",
   "nbconvert_exporter": "python",
   "pygments_lexer": "ipython3",
   "version": "3.7.7"
  }
 },
 "nbformat": 4,
 "nbformat_minor": 2
}
