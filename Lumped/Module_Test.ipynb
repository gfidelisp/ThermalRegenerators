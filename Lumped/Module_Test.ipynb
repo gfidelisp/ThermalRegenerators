{
 "cells": [
  {
   "cell_type": "code",
   "execution_count": 1,
   "id": "0f06765c",
   "metadata": {},
   "outputs": [],
   "source": [
    "import numpy as np\n",
    "import pandas as pd\n",
    "\n",
    "from scipy import interpolate\n",
    "from scipy.optimize import curve_fit\n",
    "\n",
    "import matplotlib.pyplot as plt\n",
    "import matplotlib as mpl\n",
    "mpl.style.use('default')\n",
    "from matplotlib import rc\n",
    "rc('text',usetex = True)\n",
    "rc('font', family='serif',size = 12)\n",
    "\n",
    "\n",
    "from sklearn.metrics import r2_score\n",
    "from sklearn.model_selection import train_test_split\n",
    "\n",
    "import CoolProp.CoolProp as Cool"
   ]
  },
  {
   "cell_type": "code",
   "execution_count": 2,
   "id": "c48a99bf",
   "metadata": {},
   "outputs": [],
   "source": [
    "Inputs = pd.read_excel('Data/Data_AMR.xlsx',index_col = 0) # Input Data"
   ]
  },
  {
   "cell_type": "code",
   "execution_count": 3,
   "id": "fc7bb09a",
   "metadata": {},
   "outputs": [],
   "source": [
    "X = Inputs[['W','H','f','mf','B','L','Th','Tc']]\n",
    "y = Inputs[['Qc','Wm','Qh','Wp']]\n",
    "X_train, X_test, y_train, y_test = train_test_split(X, \n",
    "                                                    y,\n",
    "                                                    test_size = 0.2,\n",
    "                                                    random_state = 42)  "
   ]
  },
  {
   "cell_type": "code",
   "execution_count": 4,
   "id": "36df240c",
   "metadata": {},
   "outputs": [],
   "source": [
    "import AMR_Lumped"
   ]
  },
  {
   "cell_type": "code",
   "execution_count": 13,
   "id": "0d4e478e",
   "metadata": {},
   "outputs": [
    {
     "name": "stdout",
     "output_type": "stream",
     "text": [
      "\n"
     ]
    },
    {
     "data": {
      "text/plain": [
       "(32.60008730824016, 161.68978450449308)"
      ]
     },
     "execution_count": 13,
     "metadata": {},
     "output_type": "execute_result"
    }
   ],
   "source": [
    "AMR_Lumped.Lumped_Model(X_train.iloc[0])"
   ]
  },
  {
   "cell_type": "code",
   "execution_count": 14,
   "id": "a34a4561",
   "metadata": {},
   "outputs": [
    {
     "data": {
      "text/html": [
       "<div>\n",
       "<style scoped>\n",
       "    .dataframe tbody tr th:only-of-type {\n",
       "        vertical-align: middle;\n",
       "    }\n",
       "\n",
       "    .dataframe tbody tr th {\n",
       "        vertical-align: top;\n",
       "    }\n",
       "\n",
       "    .dataframe thead th {\n",
       "        text-align: right;\n",
       "    }\n",
       "</style>\n",
       "<table border=\"1\" class=\"dataframe\">\n",
       "  <thead>\n",
       "    <tr style=\"text-align: right;\">\n",
       "      <th></th>\n",
       "      <th>W</th>\n",
       "      <th>H</th>\n",
       "      <th>f</th>\n",
       "      <th>mf</th>\n",
       "      <th>B</th>\n",
       "      <th>L</th>\n",
       "      <th>Th</th>\n",
       "      <th>Tc</th>\n",
       "    </tr>\n",
       "  </thead>\n",
       "  <tbody>\n",
       "    <tr>\n",
       "      <th>298</th>\n",
       "      <td>54</td>\n",
       "      <td>52</td>\n",
       "      <td>1.3</td>\n",
       "      <td>810</td>\n",
       "      <td>1.12</td>\n",
       "      <td>144</td>\n",
       "      <td>41</td>\n",
       "      <td>15</td>\n",
       "    </tr>\n",
       "    <tr>\n",
       "      <th>403</th>\n",
       "      <td>56</td>\n",
       "      <td>50</td>\n",
       "      <td>2.8</td>\n",
       "      <td>525</td>\n",
       "      <td>1.50</td>\n",
       "      <td>129</td>\n",
       "      <td>42</td>\n",
       "      <td>17</td>\n",
       "    </tr>\n",
       "    <tr>\n",
       "      <th>447</th>\n",
       "      <td>60</td>\n",
       "      <td>48</td>\n",
       "      <td>3.4</td>\n",
       "      <td>675</td>\n",
       "      <td>1.31</td>\n",
       "      <td>137</td>\n",
       "      <td>40</td>\n",
       "      <td>18</td>\n",
       "    </tr>\n",
       "    <tr>\n",
       "      <th>311</th>\n",
       "      <td>58</td>\n",
       "      <td>36</td>\n",
       "      <td>2.2</td>\n",
       "      <td>520</td>\n",
       "      <td>1.43</td>\n",
       "      <td>133</td>\n",
       "      <td>40</td>\n",
       "      <td>14</td>\n",
       "    </tr>\n",
       "    <tr>\n",
       "      <th>140</th>\n",
       "      <td>66</td>\n",
       "      <td>42</td>\n",
       "      <td>3.2</td>\n",
       "      <td>450</td>\n",
       "      <td>1.25</td>\n",
       "      <td>147</td>\n",
       "      <td>41</td>\n",
       "      <td>17</td>\n",
       "    </tr>\n",
       "    <tr>\n",
       "      <th>...</th>\n",
       "      <td>...</td>\n",
       "      <td>...</td>\n",
       "      <td>...</td>\n",
       "      <td>...</td>\n",
       "      <td>...</td>\n",
       "      <td>...</td>\n",
       "      <td>...</td>\n",
       "      <td>...</td>\n",
       "    </tr>\n",
       "    <tr>\n",
       "      <th>71</th>\n",
       "      <td>56</td>\n",
       "      <td>40</td>\n",
       "      <td>3.6</td>\n",
       "      <td>525</td>\n",
       "      <td>1.16</td>\n",
       "      <td>177</td>\n",
       "      <td>44</td>\n",
       "      <td>16</td>\n",
       "    </tr>\n",
       "    <tr>\n",
       "      <th>106</th>\n",
       "      <td>53</td>\n",
       "      <td>47</td>\n",
       "      <td>3.9</td>\n",
       "      <td>790</td>\n",
       "      <td>1.06</td>\n",
       "      <td>159</td>\n",
       "      <td>44</td>\n",
       "      <td>15</td>\n",
       "    </tr>\n",
       "    <tr>\n",
       "      <th>270</th>\n",
       "      <td>58</td>\n",
       "      <td>46</td>\n",
       "      <td>2.2</td>\n",
       "      <td>715</td>\n",
       "      <td>1.13</td>\n",
       "      <td>135</td>\n",
       "      <td>43</td>\n",
       "      <td>17</td>\n",
       "    </tr>\n",
       "    <tr>\n",
       "      <th>435</th>\n",
       "      <td>58</td>\n",
       "      <td>52</td>\n",
       "      <td>1.2</td>\n",
       "      <td>905</td>\n",
       "      <td>1.24</td>\n",
       "      <td>133</td>\n",
       "      <td>40</td>\n",
       "      <td>15</td>\n",
       "    </tr>\n",
       "    <tr>\n",
       "      <th>102</th>\n",
       "      <td>70</td>\n",
       "      <td>54</td>\n",
       "      <td>2.9</td>\n",
       "      <td>450</td>\n",
       "      <td>1.08</td>\n",
       "      <td>127</td>\n",
       "      <td>40</td>\n",
       "      <td>16</td>\n",
       "    </tr>\n",
       "  </tbody>\n",
       "</table>\n",
       "<p>425 rows × 8 columns</p>\n",
       "</div>"
      ],
      "text/plain": [
       "      W   H    f   mf     B    L  Th  Tc\n",
       "298  54  52  1.3  810  1.12  144  41  15\n",
       "403  56  50  2.8  525  1.50  129  42  17\n",
       "447  60  48  3.4  675  1.31  137  40  18\n",
       "311  58  36  2.2  520  1.43  133  40  14\n",
       "140  66  42  3.2  450  1.25  147  41  17\n",
       "..   ..  ..  ...  ...   ...  ...  ..  ..\n",
       "71   56  40  3.6  525  1.16  177  44  16\n",
       "106  53  47  3.9  790  1.06  159  44  15\n",
       "270  58  46  2.2  715  1.13  135  43  17\n",
       "435  58  52  1.2  905  1.24  133  40  15\n",
       "102  70  54  2.9  450  1.08  127  40  16\n",
       "\n",
       "[425 rows x 8 columns]"
      ]
     },
     "execution_count": 14,
     "metadata": {},
     "output_type": "execute_result"
    }
   ],
   "source": [
    "X_train"
   ]
  },
  {
   "cell_type": "code",
   "execution_count": 12,
   "id": "9c124696",
   "metadata": {},
   "outputs": [
    {
     "data": {
      "text/plain": [
       "array([ 54.  ,  52.  ,   1.3 , 810.  ,   1.12, 144.  ,  41.  ,  15.  ])"
      ]
     },
     "execution_count": 12,
     "metadata": {},
     "output_type": "execute_result"
    }
   ],
   "source": [
    "np.array(X_train.iloc[0])"
   ]
  }
 ],
 "metadata": {
  "kernelspec": {
   "display_name": "Python 3 (ipykernel)",
   "language": "python",
   "name": "python3"
  },
  "language_info": {
   "codemirror_mode": {
    "name": "ipython",
    "version": 3
   },
   "file_extension": ".py",
   "mimetype": "text/x-python",
   "name": "python",
   "nbconvert_exporter": "python",
   "pygments_lexer": "ipython3",
   "version": "3.8.13"
  }
 },
 "nbformat": 4,
 "nbformat_minor": 5
}
