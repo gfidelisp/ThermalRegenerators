{
 "cells": [
  {
   "cell_type": "markdown",
   "id": "d15cb112",
   "metadata": {},
   "source": [
    "# Deep Learning in Active Magnetic Regenerators"
   ]
  },
  {
   "cell_type": "markdown",
   "id": "555c8227",
   "metadata": {},
   "source": [
    "This Notebook presents the results for the application of Neural Networks in the prediction of the Cooling Capacity ($\\dot{Q}_\\mathrm{C}$ or $Qc$) and the Magnetization Power ($\\dot{W}_\\mathrm{m}$ or $Wm$) of Active Magnetic Regenerators. The Dataset consists in 532 points coming from numerical simulations."
   ]
  },
  {
   "cell_type": "markdown",
   "id": "f4f599ee",
   "metadata": {},
   "source": [
    "### Importing the Modules"
   ]
  },
  {
   "cell_type": "code",
   "execution_count": 1,
   "id": "3c66d8c0",
   "metadata": {},
   "outputs": [],
   "source": [
    "import numpy as np\n",
    "import pandas as pd\n",
    "import matplotlib as mpl\n",
    "import matplotlib.pyplot as plt\n",
    "\n",
    "from sklearn.model_selection import train_test_split\n",
    "from sklearn.metrics import r2_score\n",
    "from sklearn.preprocessing import StandardScaler\n",
    "\n",
    "import tensorflow as tf\n",
    "from tensorflow import keras\n",
    "import keras_tuner as kt\n",
    "\n",
    "from tensorflow.keras.models import Model, Sequential, load_model\n",
    "from tensorflow.keras.layers import Input, BatchNormalization, Activation, Dense, Dropout\n",
    "from tensorflow.keras.optimizers import Adam\n",
    "from tensorflow.keras.callbacks import EarlyStopping\n",
    "\n",
    "import joblib\n",
    "\n",
    "mpl.style.use('default')\n",
    "plt.rc('text',usetex = True)\n",
    "plt.rc('font', family='serif',size = 12)"
   ]
  },
  {
   "cell_type": "markdown",
   "id": "6135a2df",
   "metadata": {},
   "source": [
    "### Plotting Functions "
   ]
  },
  {
   "cell_type": "code",
   "execution_count": 2,
   "id": "9ea8caff",
   "metadata": {},
   "outputs": [],
   "source": [
    "def plot_results(y_train,y_pred_train,y_test,y_pred_test,Obj):\n",
    "    \n",
    "    plt.figure()\n",
    "    plt.plot(y_train,y_pred_train,'.',markersize = 7,color = '#1f77b4', mfc='none', label = 'Training Set')\n",
    "    plt.plot(y_test,y_pred_test,'x' ,markersize = 5, color = '#2ca02c', mfc='none',label = 'Test Set',)\n",
    "    \n",
    "    if Obj == 'Qc':\n",
    "        Aux = np.linspace(50,300)\n",
    "        plt.plot(Aux,0.95*Aux,'k--')\n",
    "        plt.plot(Aux,1.05*Aux,'k--')\n",
    "        plt.text(140, 180, '$+ 5 \\%$', fontsize=12)\n",
    "        plt.text(150, 120, '$- 5 \\%$', fontsize=12)\n",
    "        plt.legend()\n",
    "        plt.ylabel(r' $\\dot{Q}_\\mathrm{C}$ [W] - NN' )\n",
    "        plt.xlabel(r' $\\dot{Q}_\\mathrm{C}$ [W] - Target')\n",
    "        plt.grid(linestyle='dotted')\n",
    "        plt.savefig('Plots/Qc/Qc - NN.png', format = 'png', bbox_inches='tight') \n",
    "    \n",
    "    elif Obj == 'Wm':\n",
    "        Aux = np.linspace(10,60)\n",
    "        plt.plot(Aux,0.95*Aux,'k--')\n",
    "        plt.plot(Aux,1.05*Aux,'k--')\n",
    "        plt.text(23, 17, '$- 5 \\%$', fontsize=12)\n",
    "        plt.text(19, 28, '$+ 5 \\%$', fontsize=12)\n",
    "        plt.legend()\n",
    "        plt.ylabel(r' $\\dot{W}_\\mathrm{AMR,Mag}$ [W] - NN' )\n",
    "        plt.xlabel(r' $\\dot{W}_\\mathrm{AMR,Mag}$ [W] - Target')\n",
    "        plt.grid(linestyle='dotted')\n",
    "        plt.savefig('Plots/Wm/Wm - NN.png', format = 'png', bbox_inches='tight') "
   ]
  },
  {
   "cell_type": "markdown",
   "id": "ebfad5c8",
   "metadata": {},
   "source": [
    "### Reading the Input Parameteres "
   ]
  },
  {
   "cell_type": "markdown",
   "id": "6c7afc02",
   "metadata": {},
   "source": [
    "The independent variable are the Width ($H$), Height ($H$) and Length ($L$) of the porous medium, the frequency ($f$) and mass flow rate ($mf$) of the Active Magnetic Regenerator, the Inlet Temperatures at the Hot ($Th$) and Cold ($Tc$) ends and the Applied Magnetic Field ($B$).\n",
    "\n",
    "The dependent variables are the Cooling Capacity ($Qc$) and Magnetization Power ($Wm$)."
   ]
  },
  {
   "cell_type": "code",
   "execution_count": 3,
   "id": "433b6fdf",
   "metadata": {},
   "outputs": [],
   "source": [
    "Inputs = pd.read_excel('Data/Data_AMR.xlsx',index_col = 0, dtype=np.float32) # Input Data\n",
    "X = Inputs[['W','H','f','mf','B','L','Th','Tc']]\n",
    "y = Inputs[['Qc','Wm']]"
   ]
  },
  {
   "cell_type": "markdown",
   "id": "66827bab",
   "metadata": {},
   "source": [
    "### Train-Test Split"
   ]
  },
  {
   "cell_type": "code",
   "execution_count": 4,
   "id": "2dd528a2",
   "metadata": {},
   "outputs": [],
   "source": [
    "X_train, X_test, y_train, y_test = train_test_split(X, \n",
    "                                                    y,\n",
    "                                                    test_size = 0.2,\n",
    "                                                    random_state = 42)  "
   ]
  },
  {
   "cell_type": "markdown",
   "id": "3f012151",
   "metadata": {},
   "source": [
    "### Scaling the Features"
   ]
  },
  {
   "cell_type": "code",
   "execution_count": 5,
   "id": "f363b8df",
   "metadata": {},
   "outputs": [],
   "source": [
    "sc = StandardScaler()\n",
    "X_train = sc.fit_transform(X_train)\n",
    "X_test = sc.transform(X_test)"
   ]
  },
  {
   "cell_type": "code",
   "execution_count": 6,
   "id": "b30e25f3",
   "metadata": {},
   "outputs": [
    {
     "data": {
      "text/plain": [
       "['Models/AMR_Wm_Scaler.pkl']"
      ]
     },
     "execution_count": 6,
     "metadata": {},
     "output_type": "execute_result"
    }
   ],
   "source": [
    "joblib.dump(sc, 'Models/AMR_Wm_Scaler.pkl') "
   ]
  },
  {
   "cell_type": "markdown",
   "id": "a2ae7985",
   "metadata": {},
   "source": [
    "### Building the Model"
   ]
  },
  {
   "cell_type": "code",
   "execution_count": 12,
   "id": "a7349548",
   "metadata": {},
   "outputs": [],
   "source": [
    "def Build(hp):\n",
    "    \n",
    "    #Grouping a stack of Layers in Model\n",
    "    model = tf.keras.Sequential()\n",
    "    #model.add(BatchNormalization())\n",
    "    # Adding the Layers\n",
    "    # The number of layers, neurons in each one and activation functions are going to be tunned \n",
    "    for i in range(hp.Int('layers', 0, 2)):\n",
    "        model.add(tf.keras.layers.Dense(units=hp.Int('units_' + str(i), 1, 201, step,2),\n",
    "                                        activation=hp.Choice('act_' + str(i), ['relu','sigmoid','selu'])))\n",
    "        model.add(Dropout(0.2))\n",
    "        #Applying a Batch Normalization Layer after Dense Layer\n",
    "        #model.add(BatchNormalization())\n",
    "\n",
    "        \n",
    "    # Adding a final Layer \n",
    "    model.add(tf.keras.layers.Dense(1, activation='selu'))\n",
    "    \n",
    "    # Compiling the Model with the Adam optimization algorithm\n",
    "    model.compile(optimizer=Adam(),\n",
    "                  loss=\"mean_squared_error\",\n",
    "                  metrics=['accuracy'],\n",
    "                  #metrics = ['mean_squared_error']\n",
    "                 )\n",
    "    return model"
   ]
  },
  {
   "cell_type": "markdown",
   "id": "8323d781",
   "metadata": {},
   "source": [
    "### Batch Optimization"
   ]
  },
  {
   "cell_type": "markdown",
   "id": "d35377ce",
   "metadata": {},
   "source": [
    "Overriding run_trial in MyTuner (https://kegui.medium.com/how-to-tune-the-number-of-epochs-and-batch-size-in-keras-tuner-c2ab2d40878d)"
   ]
  },
  {
   "cell_type": "code",
   "execution_count": 13,
   "id": "c468b8cb",
   "metadata": {},
   "outputs": [],
   "source": [
    "class MyTuner(kt.Hyperband):\n",
    "    def run_trial(self, trial, *args, **kwargs):\n",
    "        kwargs['batch_size'] = trial.hyperparameters.Int('batch_size', 1, 501, step=5)\n",
    "        super(MyTuner, self).run_trial(trial, *args, **kwargs)"
   ]
  },
  {
   "cell_type": "markdown",
   "id": "cd89db08",
   "metadata": {},
   "source": [
    "### Defining the Tuner"
   ]
  },
  {
   "cell_type": "code",
   "execution_count": 14,
   "id": "b763ee5e",
   "metadata": {},
   "outputs": [],
   "source": [
    "def NeuNet(X_train,y_train,max_epochs,Obj):\n",
    "    \n",
    "    # Defining the Tuner\n",
    "    tuner = MyTuner(Build,\n",
    "                    objective = 'val_loss',\n",
    "                    max_epochs = max_epochs,\n",
    "                    directory='KT_Dir_Dropout',\n",
    "                    project_name='KT_Hyperband_' + Obj,\n",
    "                    executions_per_trial = 1,   \n",
    "    )\n",
    "    \n",
    "    # Hyperparameter Optimization\n",
    "    tuner.search(X_train,\n",
    "                 y_train[Obj],\n",
    "                 epochs=max_epochs,\n",
    "                 #callbacks=[EarlyStopping('val_loss', patience=5)],\n",
    "                 verbose=1,\n",
    "                 validation_split=0.2)\n",
    "    \n",
    "  \n",
    "    # Trainning the Best Model\n",
    "    best_model = tuner.get_best_models()[0]\n",
    "    best_model.build(X_train.shape)\n",
    "    best_model.fit(X_train,\n",
    "                   y_train[Obj], \n",
    "                   epochs=max_epochs,\n",
    "                   batch_size=tuner.get_best_hyperparameters(num_trials=1)[0].get('batch_size')\n",
    "    )\n",
    "    best_model.summary()\n",
    "    \n",
    "    # Saving the Model\n",
    "    best_model.save('Models/'+Obj+'/'+ Obj +'_NN.h5')\n",
    "    \n",
    "     #R2 for the Training Set\n",
    "    print('The coefficient of determination for '+ Obj +' Training Set using Neural Networks is '+\n",
    "          str(r2_score(y_train[Obj], best_model.predict(X_train))))\n",
    "\n",
    "    # R2 for the Test Set\n",
    "    print('The coefficient of determination for '+ Obj +' Test Set using Neural Networks is '+\n",
    "          str(r2_score(y_test[Obj], best_model.predict(X_test)))) \n",
    "\n",
    "    # Plotting the Results\n",
    "    plot_results(y_train[Obj], best_model.predict(X_train), y_test[Obj], best_model.predict(X_test), Obj) "
   ]
  },
  {
   "cell_type": "markdown",
   "id": "75c3b087",
   "metadata": {},
   "source": [
    "### Defining a Test Function"
   ]
  },
  {
   "cell_type": "code",
   "execution_count": 15,
   "id": "c0f8fbff",
   "metadata": {},
   "outputs": [],
   "source": [
    "def Test(X_train,y_train,Obj, Scal):\n",
    "    \n",
    "    Model = load_model('Models/'+Obj+'/'+ Obj +'_NN.h5', compile = False)\n",
    "    Model.summary()\n",
    "    #R2 for the Training Set\n",
    "    print('The coefficient of determination for '+ Obj +' Training Set using Neural Networks is '+\n",
    "          str(r2_score(y_train[Obj], Model.predict(Scal.transform(X_train)))))\n",
    "\n",
    "    # R2 for the Test Set\n",
    "    print('The coefficient of determination for '+ Obj +' Test Set using Neural Networks is '+\n",
    "          str(r2_score(y_test[Obj], Model.predict(Scal.transform(X_test))))) \n",
    "\n",
    "    # Plotting the Results\n",
    "    plot_results(y_train[Obj], Model.predict(Scal.transform(X_train)), y_test[Obj], Model.predict(Scal.transform(X_test)), Obj) "
   ]
  },
  {
   "cell_type": "markdown",
   "id": "11483304",
   "metadata": {},
   "source": [
    "### Training the Models"
   ]
  },
  {
   "cell_type": "code",
   "execution_count": 16,
   "id": "89a6b048",
   "metadata": {},
   "outputs": [
    {
     "name": "stdout",
     "output_type": "stream",
     "text": [
      "INFO:tensorflow:Reloading Oracle from existing project KT_Dir_Dropout\\KT_Hyperband_Qc\\oracle.json\n",
      "\n",
      "Search: Running Trial #1\n",
      "\n",
      "Hyperparameter    |Value             |Best Value So Far \n",
      "layers            |1                 |?                 \n",
      "tuner/epochs      |2                 |?                 \n",
      "tuner/initial_e...|0                 |?                 \n",
      "tuner/bracket     |6                 |?                 \n",
      "tuner/round       |0                 |?                 \n",
      "\n",
      "Invalid model 0/5\n"
     ]
    },
    {
     "name": "stderr",
     "output_type": "stream",
     "text": [
      "Traceback (most recent call last):\n",
      "  File \"C:\\Users\\Guilherme\\Anaconda3\\lib\\site-packages\\keras_tuner\\engine\\hypermodel.py\", line 127, in build\n",
      "    model = self.hypermodel.build(hp)\n",
      "  File \"C:\\Users\\Guilherme\\AppData\\Local\\Temp\\ipykernel_7260\\3028816786.py\", line 9, in Build\n",
      "    model.add(tf.keras.layers.Dense(units=hp.Int('units_' + str(i), 1, 201, step,2),\n",
      "NameError: name 'step' is not defined\n",
      "Traceback (most recent call last):\n",
      "  File \"C:\\Users\\Guilherme\\Anaconda3\\lib\\site-packages\\keras_tuner\\engine\\hypermodel.py\", line 127, in build\n",
      "    model = self.hypermodel.build(hp)\n",
      "  File \"C:\\Users\\Guilherme\\AppData\\Local\\Temp\\ipykernel_7260\\3028816786.py\", line 9, in Build\n",
      "    model.add(tf.keras.layers.Dense(units=hp.Int('units_' + str(i), 1, 201, step,2),\n",
      "NameError: name 'step' is not defined\n"
     ]
    },
    {
     "name": "stdout",
     "output_type": "stream",
     "text": [
      "Invalid model 1/5\n",
      "Invalid model 2/5\n"
     ]
    },
    {
     "name": "stderr",
     "output_type": "stream",
     "text": [
      "Traceback (most recent call last):\n",
      "  File \"C:\\Users\\Guilherme\\Anaconda3\\lib\\site-packages\\keras_tuner\\engine\\hypermodel.py\", line 127, in build\n",
      "    model = self.hypermodel.build(hp)\n",
      "  File \"C:\\Users\\Guilherme\\AppData\\Local\\Temp\\ipykernel_7260\\3028816786.py\", line 9, in Build\n",
      "    model.add(tf.keras.layers.Dense(units=hp.Int('units_' + str(i), 1, 201, step,2),\n",
      "NameError: name 'step' is not defined\n",
      "Traceback (most recent call last):\n",
      "  File \"C:\\Users\\Guilherme\\Anaconda3\\lib\\site-packages\\keras_tuner\\engine\\hypermodel.py\", line 127, in build\n",
      "    model = self.hypermodel.build(hp)\n",
      "  File \"C:\\Users\\Guilherme\\AppData\\Local\\Temp\\ipykernel_7260\\3028816786.py\", line 9, in Build\n",
      "    model.add(tf.keras.layers.Dense(units=hp.Int('units_' + str(i), 1, 201, step,2),\n",
      "NameError: name 'step' is not defined\n"
     ]
    },
    {
     "name": "stdout",
     "output_type": "stream",
     "text": [
      "Invalid model 3/5\n",
      "Invalid model 4/5\n"
     ]
    },
    {
     "name": "stderr",
     "output_type": "stream",
     "text": [
      "Traceback (most recent call last):\n",
      "  File \"C:\\Users\\Guilherme\\Anaconda3\\lib\\site-packages\\keras_tuner\\engine\\hypermodel.py\", line 127, in build\n",
      "    model = self.hypermodel.build(hp)\n",
      "  File \"C:\\Users\\Guilherme\\AppData\\Local\\Temp\\ipykernel_7260\\3028816786.py\", line 9, in Build\n",
      "    model.add(tf.keras.layers.Dense(units=hp.Int('units_' + str(i), 1, 201, step,2),\n",
      "NameError: name 'step' is not defined\n",
      "Traceback (most recent call last):\n",
      "  File \"C:\\Users\\Guilherme\\Anaconda3\\lib\\site-packages\\keras_tuner\\engine\\hypermodel.py\", line 127, in build\n",
      "    model = self.hypermodel.build(hp)\n",
      "  File \"C:\\Users\\Guilherme\\AppData\\Local\\Temp\\ipykernel_7260\\3028816786.py\", line 9, in Build\n",
      "    model.add(tf.keras.layers.Dense(units=hp.Int('units_' + str(i), 1, 201, step,2),\n",
      "NameError: name 'step' is not defined\n"
     ]
    },
    {
     "name": "stdout",
     "output_type": "stream",
     "text": [
      "Invalid model 5/5\n"
     ]
    },
    {
     "ename": "RuntimeError",
     "evalue": "Too many failed attempts to build model.",
     "output_type": "error",
     "traceback": [
      "\u001b[1;31m---------------------------------------------------------------------------\u001b[0m",
      "\u001b[1;31mNameError\u001b[0m                                 Traceback (most recent call last)",
      "File \u001b[1;32m~\\Anaconda3\\lib\\site-packages\\keras_tuner\\engine\\hypermodel.py:127\u001b[0m, in \u001b[0;36mKerasHyperModel.build\u001b[1;34m(self, hp)\u001b[0m\n\u001b[0;32m    126\u001b[0m     \u001b[38;5;28;01mwith\u001b[39;00m maybe_distribute(\u001b[38;5;28mself\u001b[39m\u001b[38;5;241m.\u001b[39mdistribution_strategy):\n\u001b[1;32m--> 127\u001b[0m         model \u001b[38;5;241m=\u001b[39m \u001b[38;5;28;43mself\u001b[39;49m\u001b[38;5;241;43m.\u001b[39;49m\u001b[43mhypermodel\u001b[49m\u001b[38;5;241;43m.\u001b[39;49m\u001b[43mbuild\u001b[49m\u001b[43m(\u001b[49m\u001b[43mhp\u001b[49m\u001b[43m)\u001b[49m\n\u001b[0;32m    128\u001b[0m \u001b[38;5;28;01mexcept\u001b[39;00m:\n",
      "Input \u001b[1;32mIn [12]\u001b[0m, in \u001b[0;36mBuild\u001b[1;34m(hp)\u001b[0m\n\u001b[0;32m      8\u001b[0m \u001b[38;5;28;01mfor\u001b[39;00m i \u001b[38;5;129;01min\u001b[39;00m \u001b[38;5;28mrange\u001b[39m(hp\u001b[38;5;241m.\u001b[39mInt(\u001b[38;5;124m'\u001b[39m\u001b[38;5;124mlayers\u001b[39m\u001b[38;5;124m'\u001b[39m, \u001b[38;5;241m0\u001b[39m, \u001b[38;5;241m2\u001b[39m)):\n\u001b[1;32m----> 9\u001b[0m     model\u001b[38;5;241m.\u001b[39madd(tf\u001b[38;5;241m.\u001b[39mkeras\u001b[38;5;241m.\u001b[39mlayers\u001b[38;5;241m.\u001b[39mDense(units\u001b[38;5;241m=\u001b[39mhp\u001b[38;5;241m.\u001b[39mInt(\u001b[38;5;124m'\u001b[39m\u001b[38;5;124munits_\u001b[39m\u001b[38;5;124m'\u001b[39m \u001b[38;5;241m+\u001b[39m \u001b[38;5;28mstr\u001b[39m(i), \u001b[38;5;241m1\u001b[39m, \u001b[38;5;241m201\u001b[39m, \u001b[43mstep\u001b[49m,\u001b[38;5;241m2\u001b[39m),\n\u001b[0;32m     10\u001b[0m                                     activation\u001b[38;5;241m=\u001b[39mhp\u001b[38;5;241m.\u001b[39mChoice(\u001b[38;5;124m'\u001b[39m\u001b[38;5;124mact_\u001b[39m\u001b[38;5;124m'\u001b[39m \u001b[38;5;241m+\u001b[39m \u001b[38;5;28mstr\u001b[39m(i), [\u001b[38;5;124m'\u001b[39m\u001b[38;5;124mrelu\u001b[39m\u001b[38;5;124m'\u001b[39m,\u001b[38;5;124m'\u001b[39m\u001b[38;5;124msigmoid\u001b[39m\u001b[38;5;124m'\u001b[39m,\u001b[38;5;124m'\u001b[39m\u001b[38;5;124mselu\u001b[39m\u001b[38;5;124m'\u001b[39m])))\n\u001b[0;32m     11\u001b[0m     model\u001b[38;5;241m.\u001b[39madd(Dropout(\u001b[38;5;241m0.2\u001b[39m))\n",
      "\u001b[1;31mNameError\u001b[0m: name 'step' is not defined",
      "\nDuring handling of the above exception, another exception occurred:\n",
      "\u001b[1;31mRuntimeError\u001b[0m                              Traceback (most recent call last)",
      "Input \u001b[1;32mIn [16]\u001b[0m, in \u001b[0;36m<cell line: 1>\u001b[1;34m()\u001b[0m\n\u001b[1;32m----> 1\u001b[0m \u001b[43mNeuNet\u001b[49m\u001b[43m(\u001b[49m\u001b[43mX_train\u001b[49m\u001b[43m,\u001b[49m\u001b[43my_train\u001b[49m\u001b[43m,\u001b[49m\u001b[38;5;241;43m1000\u001b[39;49m\u001b[43m,\u001b[49m\u001b[38;5;124;43m'\u001b[39;49m\u001b[38;5;124;43mQc\u001b[39;49m\u001b[38;5;124;43m'\u001b[39;49m\u001b[43m)\u001b[49m\n",
      "Input \u001b[1;32mIn [14]\u001b[0m, in \u001b[0;36mNeuNet\u001b[1;34m(X_train, y_train, max_epochs, Obj)\u001b[0m\n\u001b[0;32m      4\u001b[0m tuner \u001b[38;5;241m=\u001b[39m MyTuner(Build,\n\u001b[0;32m      5\u001b[0m                 objective \u001b[38;5;241m=\u001b[39m \u001b[38;5;124m'\u001b[39m\u001b[38;5;124mval_loss\u001b[39m\u001b[38;5;124m'\u001b[39m,\n\u001b[0;32m      6\u001b[0m                 max_epochs \u001b[38;5;241m=\u001b[39m max_epochs,\n\u001b[1;32m   (...)\u001b[0m\n\u001b[0;32m      9\u001b[0m                 executions_per_trial \u001b[38;5;241m=\u001b[39m \u001b[38;5;241m1\u001b[39m,   \n\u001b[0;32m     10\u001b[0m )\n\u001b[0;32m     12\u001b[0m \u001b[38;5;66;03m# Hyperparameter Optimization\u001b[39;00m\n\u001b[1;32m---> 13\u001b[0m \u001b[43mtuner\u001b[49m\u001b[38;5;241;43m.\u001b[39;49m\u001b[43msearch\u001b[49m\u001b[43m(\u001b[49m\u001b[43mX_train\u001b[49m\u001b[43m,\u001b[49m\n\u001b[0;32m     14\u001b[0m \u001b[43m             \u001b[49m\u001b[43my_train\u001b[49m\u001b[43m[\u001b[49m\u001b[43mObj\u001b[49m\u001b[43m]\u001b[49m\u001b[43m,\u001b[49m\n\u001b[0;32m     15\u001b[0m \u001b[43m             \u001b[49m\u001b[43mepochs\u001b[49m\u001b[38;5;241;43m=\u001b[39;49m\u001b[43mmax_epochs\u001b[49m\u001b[43m,\u001b[49m\n\u001b[0;32m     16\u001b[0m \u001b[43m             \u001b[49m\u001b[38;5;66;43;03m#callbacks=[EarlyStopping('val_loss', patience=5)],\u001b[39;49;00m\n\u001b[0;32m     17\u001b[0m \u001b[43m             \u001b[49m\u001b[43mverbose\u001b[49m\u001b[38;5;241;43m=\u001b[39;49m\u001b[38;5;241;43m1\u001b[39;49m\u001b[43m,\u001b[49m\n\u001b[0;32m     18\u001b[0m \u001b[43m             \u001b[49m\u001b[43mvalidation_split\u001b[49m\u001b[38;5;241;43m=\u001b[39;49m\u001b[38;5;241;43m0.2\u001b[39;49m\u001b[43m)\u001b[49m\n\u001b[0;32m     21\u001b[0m \u001b[38;5;66;03m# Trainning the Best Model\u001b[39;00m\n\u001b[0;32m     22\u001b[0m best_model \u001b[38;5;241m=\u001b[39m tuner\u001b[38;5;241m.\u001b[39mget_best_models()[\u001b[38;5;241m0\u001b[39m]\n",
      "File \u001b[1;32m~\\Anaconda3\\lib\\site-packages\\keras_tuner\\engine\\base_tuner.py:144\u001b[0m, in \u001b[0;36mBaseTuner.search\u001b[1;34m(self, *fit_args, **fit_kwargs)\u001b[0m\n\u001b[0;32m    141\u001b[0m         \u001b[38;5;28;01mcontinue\u001b[39;00m\n\u001b[0;32m    143\u001b[0m     \u001b[38;5;28mself\u001b[39m\u001b[38;5;241m.\u001b[39mon_trial_begin(trial)\n\u001b[1;32m--> 144\u001b[0m     \u001b[38;5;28;43mself\u001b[39;49m\u001b[38;5;241;43m.\u001b[39;49m\u001b[43mrun_trial\u001b[49m\u001b[43m(\u001b[49m\u001b[43mtrial\u001b[49m\u001b[43m,\u001b[49m\u001b[43m \u001b[49m\u001b[38;5;241;43m*\u001b[39;49m\u001b[43mfit_args\u001b[49m\u001b[43m,\u001b[49m\u001b[43m \u001b[49m\u001b[38;5;241;43m*\u001b[39;49m\u001b[38;5;241;43m*\u001b[39;49m\u001b[43mfit_kwargs\u001b[49m\u001b[43m)\u001b[49m\n\u001b[0;32m    145\u001b[0m     \u001b[38;5;28mself\u001b[39m\u001b[38;5;241m.\u001b[39mon_trial_end(trial)\n\u001b[0;32m    146\u001b[0m \u001b[38;5;28mself\u001b[39m\u001b[38;5;241m.\u001b[39mon_search_end()\n",
      "Input \u001b[1;32mIn [13]\u001b[0m, in \u001b[0;36mMyTuner.run_trial\u001b[1;34m(self, trial, *args, **kwargs)\u001b[0m\n\u001b[0;32m      2\u001b[0m \u001b[38;5;28;01mdef\u001b[39;00m \u001b[38;5;21mrun_trial\u001b[39m(\u001b[38;5;28mself\u001b[39m, trial, \u001b[38;5;241m*\u001b[39margs, \u001b[38;5;241m*\u001b[39m\u001b[38;5;241m*\u001b[39mkwargs):\n\u001b[0;32m      3\u001b[0m     kwargs[\u001b[38;5;124m'\u001b[39m\u001b[38;5;124mbatch_size\u001b[39m\u001b[38;5;124m'\u001b[39m] \u001b[38;5;241m=\u001b[39m trial\u001b[38;5;241m.\u001b[39mhyperparameters\u001b[38;5;241m.\u001b[39mInt(\u001b[38;5;124m'\u001b[39m\u001b[38;5;124mbatch_size\u001b[39m\u001b[38;5;124m'\u001b[39m, \u001b[38;5;241m1\u001b[39m, \u001b[38;5;241m501\u001b[39m, step\u001b[38;5;241m=\u001b[39m\u001b[38;5;241m5\u001b[39m)\n\u001b[1;32m----> 4\u001b[0m     \u001b[38;5;28;43msuper\u001b[39;49m\u001b[43m(\u001b[49m\u001b[43mMyTuner\u001b[49m\u001b[43m,\u001b[49m\u001b[43m \u001b[49m\u001b[38;5;28;43mself\u001b[39;49m\u001b[43m)\u001b[49m\u001b[38;5;241;43m.\u001b[39;49m\u001b[43mrun_trial\u001b[49m\u001b[43m(\u001b[49m\u001b[43mtrial\u001b[49m\u001b[43m,\u001b[49m\u001b[43m \u001b[49m\u001b[38;5;241;43m*\u001b[39;49m\u001b[43margs\u001b[49m\u001b[43m,\u001b[49m\u001b[43m \u001b[49m\u001b[38;5;241;43m*\u001b[39;49m\u001b[38;5;241;43m*\u001b[39;49m\u001b[43mkwargs\u001b[49m\u001b[43m)\u001b[49m\n",
      "File \u001b[1;32m~\\Anaconda3\\lib\\site-packages\\keras_tuner\\tuners\\hyperband.py:370\u001b[0m, in \u001b[0;36mHyperband.run_trial\u001b[1;34m(self, trial, *fit_args, **fit_kwargs)\u001b[0m\n\u001b[0;32m    368\u001b[0m     fit_kwargs[\u001b[38;5;124m\"\u001b[39m\u001b[38;5;124mepochs\u001b[39m\u001b[38;5;124m\"\u001b[39m] \u001b[38;5;241m=\u001b[39m hp\u001b[38;5;241m.\u001b[39mvalues[\u001b[38;5;124m\"\u001b[39m\u001b[38;5;124mtuner/epochs\u001b[39m\u001b[38;5;124m\"\u001b[39m]\n\u001b[0;32m    369\u001b[0m     fit_kwargs[\u001b[38;5;124m\"\u001b[39m\u001b[38;5;124minitial_epoch\u001b[39m\u001b[38;5;124m\"\u001b[39m] \u001b[38;5;241m=\u001b[39m hp\u001b[38;5;241m.\u001b[39mvalues[\u001b[38;5;124m\"\u001b[39m\u001b[38;5;124mtuner/initial_epoch\u001b[39m\u001b[38;5;124m\"\u001b[39m]\n\u001b[1;32m--> 370\u001b[0m \u001b[38;5;28;43msuper\u001b[39;49m\u001b[43m(\u001b[49m\u001b[43mHyperband\u001b[49m\u001b[43m,\u001b[49m\u001b[43m \u001b[49m\u001b[38;5;28;43mself\u001b[39;49m\u001b[43m)\u001b[49m\u001b[38;5;241;43m.\u001b[39;49m\u001b[43mrun_trial\u001b[49m\u001b[43m(\u001b[49m\u001b[43mtrial\u001b[49m\u001b[43m,\u001b[49m\u001b[43m \u001b[49m\u001b[38;5;241;43m*\u001b[39;49m\u001b[43mfit_args\u001b[49m\u001b[43m,\u001b[49m\u001b[43m \u001b[49m\u001b[38;5;241;43m*\u001b[39;49m\u001b[38;5;241;43m*\u001b[39;49m\u001b[43mfit_kwargs\u001b[49m\u001b[43m)\u001b[49m\n",
      "File \u001b[1;32m~\\Anaconda3\\lib\\site-packages\\keras_tuner\\engine\\multi_execution_tuner.py:90\u001b[0m, in \u001b[0;36mMultiExecutionTuner.run_trial\u001b[1;34m(self, trial, *fit_args, **fit_kwargs)\u001b[0m\n\u001b[0;32m     87\u001b[0m callbacks\u001b[38;5;241m.\u001b[39mappend(model_checkpoint)\n\u001b[0;32m     88\u001b[0m copied_fit_kwargs[\u001b[38;5;124m\"\u001b[39m\u001b[38;5;124mcallbacks\u001b[39m\u001b[38;5;124m\"\u001b[39m] \u001b[38;5;241m=\u001b[39m callbacks\n\u001b[1;32m---> 90\u001b[0m history \u001b[38;5;241m=\u001b[39m \u001b[38;5;28;43mself\u001b[39;49m\u001b[38;5;241;43m.\u001b[39;49m\u001b[43m_build_and_fit_model\u001b[49m\u001b[43m(\u001b[49m\u001b[43mtrial\u001b[49m\u001b[43m,\u001b[49m\u001b[43m \u001b[49m\u001b[43mfit_args\u001b[49m\u001b[43m,\u001b[49m\u001b[43m \u001b[49m\u001b[43mcopied_fit_kwargs\u001b[49m\u001b[43m)\u001b[49m\n\u001b[0;32m     91\u001b[0m \u001b[38;5;28;01mfor\u001b[39;00m metric, epoch_values \u001b[38;5;129;01min\u001b[39;00m history\u001b[38;5;241m.\u001b[39mhistory\u001b[38;5;241m.\u001b[39mitems():\n\u001b[0;32m     92\u001b[0m     \u001b[38;5;28;01mif\u001b[39;00m \u001b[38;5;28mself\u001b[39m\u001b[38;5;241m.\u001b[39moracle\u001b[38;5;241m.\u001b[39mobjective\u001b[38;5;241m.\u001b[39mdirection \u001b[38;5;241m==\u001b[39m \u001b[38;5;124m\"\u001b[39m\u001b[38;5;124mmin\u001b[39m\u001b[38;5;124m\"\u001b[39m:\n",
      "File \u001b[1;32m~\\Anaconda3\\lib\\site-packages\\keras_tuner\\engine\\tuner.py:146\u001b[0m, in \u001b[0;36mTuner._build_and_fit_model\u001b[1;34m(self, trial, fit_args, fit_kwargs)\u001b[0m\n\u001b[0;32m    128\u001b[0m \u001b[38;5;28;01mdef\u001b[39;00m \u001b[38;5;21m_build_and_fit_model\u001b[39m(\u001b[38;5;28mself\u001b[39m, trial, fit_args, fit_kwargs):\n\u001b[0;32m    129\u001b[0m     \u001b[38;5;124;03m\"\"\"For AutoKeras to override.\u001b[39;00m\n\u001b[0;32m    130\u001b[0m \n\u001b[0;32m    131\u001b[0m \u001b[38;5;124;03m    DO NOT REMOVE this function. AutoKeras overrides the function to tune\u001b[39;00m\n\u001b[1;32m   (...)\u001b[0m\n\u001b[0;32m    144\u001b[0m \u001b[38;5;124;03m        The fit history.\u001b[39;00m\n\u001b[0;32m    145\u001b[0m \u001b[38;5;124;03m    \"\"\"\u001b[39;00m\n\u001b[1;32m--> 146\u001b[0m     model \u001b[38;5;241m=\u001b[39m \u001b[38;5;28;43mself\u001b[39;49m\u001b[38;5;241;43m.\u001b[39;49m\u001b[43mhypermodel\u001b[49m\u001b[38;5;241;43m.\u001b[39;49m\u001b[43mbuild\u001b[49m\u001b[43m(\u001b[49m\u001b[43mtrial\u001b[49m\u001b[38;5;241;43m.\u001b[39;49m\u001b[43mhyperparameters\u001b[49m\u001b[43m)\u001b[49m\n\u001b[0;32m    147\u001b[0m     \u001b[38;5;28;01mreturn\u001b[39;00m model\u001b[38;5;241m.\u001b[39mfit(\u001b[38;5;241m*\u001b[39mfit_args, \u001b[38;5;241m*\u001b[39m\u001b[38;5;241m*\u001b[39mfit_kwargs)\n",
      "File \u001b[1;32m~\\Anaconda3\\lib\\site-packages\\keras_tuner\\engine\\hypermodel.py:84\u001b[0m, in \u001b[0;36mHyperModel._build_wrapper\u001b[1;34m(self, hp, *args, **kwargs)\u001b[0m\n\u001b[0;32m     80\u001b[0m \u001b[38;5;28;01mif\u001b[39;00m \u001b[38;5;129;01mnot\u001b[39;00m \u001b[38;5;28mself\u001b[39m\u001b[38;5;241m.\u001b[39mtunable:\n\u001b[0;32m     81\u001b[0m     \u001b[38;5;66;03m# Copy `HyperParameters` object so that new entries are not added\u001b[39;00m\n\u001b[0;32m     82\u001b[0m     \u001b[38;5;66;03m# to the search space.\u001b[39;00m\n\u001b[0;32m     83\u001b[0m     hp \u001b[38;5;241m=\u001b[39m hp\u001b[38;5;241m.\u001b[39mcopy()\n\u001b[1;32m---> 84\u001b[0m \u001b[38;5;28;01mreturn\u001b[39;00m \u001b[38;5;28;43mself\u001b[39;49m\u001b[38;5;241;43m.\u001b[39;49m\u001b[43m_build\u001b[49m\u001b[43m(\u001b[49m\u001b[43mhp\u001b[49m\u001b[43m,\u001b[49m\u001b[43m \u001b[49m\u001b[38;5;241;43m*\u001b[39;49m\u001b[43margs\u001b[49m\u001b[43m,\u001b[49m\u001b[43m \u001b[49m\u001b[38;5;241;43m*\u001b[39;49m\u001b[38;5;241;43m*\u001b[39;49m\u001b[43mkwargs\u001b[49m\u001b[43m)\u001b[49m\n",
      "File \u001b[1;32m~\\Anaconda3\\lib\\site-packages\\keras_tuner\\engine\\hypermodel.py:135\u001b[0m, in \u001b[0;36mKerasHyperModel.build\u001b[1;34m(self, hp)\u001b[0m\n\u001b[0;32m    132\u001b[0m     \u001b[38;5;28mprint\u001b[39m(\u001b[38;5;124m\"\u001b[39m\u001b[38;5;124mInvalid model \u001b[39m\u001b[38;5;132;01m%s\u001b[39;00m\u001b[38;5;124m/\u001b[39m\u001b[38;5;132;01m%s\u001b[39;00m\u001b[38;5;124m\"\u001b[39m \u001b[38;5;241m%\u001b[39m (i, \u001b[38;5;28mself\u001b[39m\u001b[38;5;241m.\u001b[39m_max_fail_streak))\n\u001b[0;32m    134\u001b[0m     \u001b[38;5;28;01mif\u001b[39;00m i \u001b[38;5;241m==\u001b[39m \u001b[38;5;28mself\u001b[39m\u001b[38;5;241m.\u001b[39m_max_fail_streak:\n\u001b[1;32m--> 135\u001b[0m         \u001b[38;5;28;01mraise\u001b[39;00m \u001b[38;5;167;01mRuntimeError\u001b[39;00m(\u001b[38;5;124m\"\u001b[39m\u001b[38;5;124mToo many failed attempts to build model.\u001b[39m\u001b[38;5;124m\"\u001b[39m)\n\u001b[0;32m    136\u001b[0m     \u001b[38;5;28;01mcontinue\u001b[39;00m\n\u001b[0;32m    138\u001b[0m \u001b[38;5;66;03m# Stop if `build()` does not return a valid model.\u001b[39;00m\n",
      "\u001b[1;31mRuntimeError\u001b[0m: Too many failed attempts to build model."
     ]
    }
   ],
   "source": [
    "NeuNet(X_train,y_train,1000,'Qc')"
   ]
  },
  {
   "cell_type": "code",
   "execution_count": null,
   "id": "d9fa5836",
   "metadata": {},
   "outputs": [],
   "source": [
    "NeuNet(X_train,y_train,1000,'Wm')"
   ]
  },
  {
   "cell_type": "markdown",
   "id": "01b10fe2",
   "metadata": {},
   "source": [
    "### Testing the Models"
   ]
  },
  {
   "cell_type": "markdown",
   "id": "96c16d65",
   "metadata": {},
   "source": [
    "### Reading the Input Parameteres "
   ]
  },
  {
   "cell_type": "code",
   "execution_count": 14,
   "id": "076debf4",
   "metadata": {},
   "outputs": [],
   "source": [
    "Inputs = pd.read_excel('Data/Data_AMR.xlsx',index_col = 0, dtype=np.float32) # Input Data\n",
    "X = Inputs[['W','H','f','mf','B','L','Th','Tc']]\n",
    "y = Inputs[['Qc','Wm']]"
   ]
  },
  {
   "cell_type": "markdown",
   "id": "3f945f7e",
   "metadata": {},
   "source": [
    "### Train-Test Split"
   ]
  },
  {
   "cell_type": "code",
   "execution_count": 15,
   "id": "57aac8ce",
   "metadata": {},
   "outputs": [],
   "source": [
    "X_train, X_test, y_train, y_test = train_test_split(X, \n",
    "                                                    y,\n",
    "                                                    test_size = 0.2,\n",
    "                                                    random_state = 42)  "
   ]
  },
  {
   "cell_type": "markdown",
   "id": "6ad38b4e",
   "metadata": {},
   "source": [
    "### Scaling the Features"
   ]
  },
  {
   "cell_type": "code",
   "execution_count": 16,
   "id": "be24ed30",
   "metadata": {},
   "outputs": [],
   "source": [
    "Scaller = joblib.load('Models/AMR_Scaler.pkl')"
   ]
  },
  {
   "cell_type": "code",
   "execution_count": 17,
   "id": "ac325434",
   "metadata": {},
   "outputs": [
    {
     "name": "stdout",
     "output_type": "stream",
     "text": [
      "Model: \"sequential\"\n",
      "_________________________________________________________________\n",
      "Layer (type)                 Output Shape              Param #   \n",
      "=================================================================\n",
      "dense (Dense)                (None, 91)                819       \n",
      "_________________________________________________________________\n",
      "dropout (Dropout)            (None, 91)                0         \n",
      "_________________________________________________________________\n",
      "dense_1 (Dense)              (None, 1)                 92        \n",
      "=================================================================\n",
      "Total params: 911\n",
      "Trainable params: 911\n",
      "Non-trainable params: 0\n",
      "_________________________________________________________________\n",
      "The coefficient of determination for Wm Training Set using Neural Networks is 0.9970668583205345\n",
      "The coefficient of determination for Wm Test Set using Neural Networks is 0.9975539077000567\n"
     ]
    },
    {
     "data": {
      "image/png": "[encoded data removed]",
      "text/plain": [
       "<Figure size 640x480 with 1 Axes>"
      ]
     },
     "metadata": {},
     "output_type": "display_data"
    }
   ],
   "source": [
    "Test(X_train,y_train,'Wm',Scaller)"
   ]
  }
 ],
 "metadata": {
  "kernelspec": {
   "display_name": "Python 3 (ipykernel)",
   "language": "python",
   "name": "python3"
  },
  "language_info": {
   "codemirror_mode": {
    "name": "ipython",
    "version": 3
   },
   "file_extension": ".py",
   "mimetype": "text/x-python",
   "name": "python",
   "nbconvert_exporter": "python",
   "pygments_lexer": "ipython3",
   "version": "3.8.13"
  }
 },
 "nbformat": 4,
 "nbformat_minor": 5
}
