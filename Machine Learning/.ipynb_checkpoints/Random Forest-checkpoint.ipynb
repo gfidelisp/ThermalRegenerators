{
 "cells": [
  {
   "cell_type": "code",
   "execution_count": null,
   "id": "cd3b609e",
   "metadata": {},
   "outputs": [],
   "source": [
    "import numpy as np\n",
    "import pandas as pd\n",
    "import matplotlib as mpl\n",
    "import matplotlib.pyplot as plt\n",
    "\n",
    "from sklearn.model_selection import train_test_split\n",
    "from sklearn.metrics import r2_score\n",
    "from sklearn.model_selection import GridSearchCV\n",
    "from sklearn.ensemble import RandomForestRegressor\n",
    "\n",
    "mpl.style.use('default')\n",
    "plt.rc('text',usetex = True)\n",
    "plt.rc('font', family='serif',size = 12)"
   ]
  },
  {
   "cell_type": "code",
   "execution_count": null,
   "id": "2af2f97a",
   "metadata": {},
   "outputs": [],
   "source": [
    "def plot_Wm(y_train,y_pred_train,y_test,y_pred_test, Method):\n",
    "    Aux = np.linspace(10,60)\n",
    "    plt.plot(Aux,0.9*Aux,'k--')\n",
    "    plt.plot(Aux,1.1*Aux,'k--')\n",
    "    plt.plot(y_train,y_pred_train,'o',color = '#1f77b4', mfc='none', label = 'Training Set')\n",
    "    plt.plot(y_test,y_pred_test,'x' ,color = '#2ca02c', mfc='none',label = 'Test Set',)\n",
    "    plt.text(23, 17, '$- 10 \\%$', fontsize=12)\n",
    "    plt.text(19, 28, '$+ 10 \\%$', fontsize=12)\n",
    "    plt.legend()\n",
    "    plt.ylabel(r' $\\dot{W}_\\mathrm{AMR,Mag}$ [W] - ' + Method )\n",
    "    plt.xlabel(r' $\\dot{W}_\\mathrm{AMR,Mag}$ [W] - Numerical Solution')\n",
    "    plt.grid(linestyle='dotted')\n",
    "    plt.savefig('Plots/Wm - '+Method +'.png', format = 'png', bbox_inches='tight',) "
   ]
  },
  {
   "cell_type": "code",
   "execution_count": null,
   "id": "57b4e0ad",
   "metadata": {},
   "outputs": [],
   "source": [
    "def plot_Qc(y_train,y_pred_train,y_test,y_pred_test, Method):\n",
    "    Aux = np.linspace(50,300)\n",
    "    plt.plot(Aux,0.9*Aux,'k--')\n",
    "    plt.plot(Aux,1.1*Aux,'k--')\n",
    "    plt.plot(y_train,y_pred_train,'o',color = '#1f77b4', mfc='none', label = 'Training Set')\n",
    "    plt.plot(y_test,y_pred_test,'x' ,color = '#2ca02c', mfc='none',label = 'Test Set')\n",
    "    plt.text(140, 180, '$+ 10 \\%$', fontsize=12)\n",
    "    plt.text(150, 120, '$- 10 \\%$', fontsize=12)\n",
    "    plt.ylabel(r' $\\dot{Q}_\\mathrm{C}$ [W] - ' + Method )\n",
    "    plt.xlabel(r' $\\dot{Q}_\\mathrm{C}$ [W] - Target')\n",
    "    plt.legend()\n",
    "    plt.grid(linestyle='dotted')\n",
    "    plt.savefig('Plots/Qc - '+Method +'.png', format = 'png', bbox_inches='tight',) "
   ]
  },
  {
   "cell_type": "markdown",
   "id": "8481ce4e",
   "metadata": {},
   "source": [
    "### Reading the Input Parameteres "
   ]
  },
  {
   "cell_type": "code",
   "execution_count": null,
   "id": "bda0a5e1",
   "metadata": {},
   "outputs": [],
   "source": [
    "Inputs = pd.read_excel('Data/Data_AMR.xlsx',index_col = 0) # Input Data"
   ]
  },
  {
   "cell_type": "markdown",
   "id": "0ddfe41c",
   "metadata": {},
   "source": [
    "# Train-Test Split"
   ]
  },
  {
   "cell_type": "code",
   "execution_count": null,
   "id": "3afa6765",
   "metadata": {},
   "outputs": [],
   "source": [
    "X = Inputs[['W','H','f','mf','B','L','Th','Tc']]\n",
    "y = Inputs[['Qc','Wm']]\n",
    "X_train, X_test, y_train, y_test = train_test_split(X, \n",
    "                                                    y,\n",
    "                                                    test_size = 0.2,\n",
    "                                                    random_state = 42)  "
   ]
  },
  {
   "cell_type": "markdown",
   "id": "b12e6ca9",
   "metadata": {},
   "source": [
    "# Random Forest"
   ]
  },
  {
   "cell_type": "code",
   "execution_count": null,
   "id": "8d3ec41a",
   "metadata": {},
   "outputs": [],
   "source": [
    "params = {'n_estimators': (25,500,25),\n",
    "          'max_features': ['auto', 'sqrt'],\n",
    "          'max_depth': (10,200,10),\n",
    "          'min_samples_split': (2,10,4),\n",
    "          'min_samples_leaf' : (1,5,2)\n",
    "         }\n",
    "rf_model_cv_gs = RandomForestRegressor(random_state=42)"
   ]
  },
  {
   "cell_type": "code",
   "execution_count": null,
   "id": "f62d4dd9",
   "metadata": {
    "scrolled": true
   },
   "outputs": [],
   "source": [
    "model = GridSearchCV(rf_model_cv_gs, \n",
    "                     param_grid=params, \n",
    "                     return_train_score=True, \n",
    "                     verbose = 2,\n",
    "                    )\n",
    "\n",
    "model.fit(X_train, y_train['Qc'])"
   ]
  },
  {
   "cell_type": "code",
   "execution_count": null,
   "id": "c11e2c81",
   "metadata": {},
   "outputs": [],
   "source": [
    "model.best_estimator_"
   ]
  },
  {
   "cell_type": "code",
   "execution_count": null,
   "id": "6509d72b",
   "metadata": {},
   "outputs": [],
   "source": [
    "features = X_train.columns\n",
    "importances = model.best_estimator_.feature_importances_"
   ]
  },
  {
   "cell_type": "markdown",
   "id": "b12a424f",
   "metadata": {},
   "source": [
    "## Cooling Capacity"
   ]
  },
  {
   "cell_type": "code",
   "execution_count": null,
   "id": "5f6bfb68",
   "metadata": {},
   "outputs": [],
   "source": [
    "print('The coefficient of determination for the Training Set is',r2_score(y_train['Qc'],model.predict(X_train).T))\n",
    "print('The coefficient of determination for the Test Set is',r2_score(y_test['Qc'], model.predict(X_test).T))"
   ]
  },
  {
   "cell_type": "code",
   "execution_count": null,
   "id": "33fda559",
   "metadata": {},
   "outputs": [],
   "source": [
    "plot_Qc(y_train['Qc'],\n",
    "        model.predict(X_train).T,\n",
    "        y_test['Qc'],\n",
    "        model.predict(X_test).T,\n",
    "        \"Random Forest\")"
   ]
  },
  {
   "cell_type": "code",
   "execution_count": null,
   "id": "8d24d484",
   "metadata": {
    "scrolled": true
   },
   "outputs": [],
   "source": [
    "plot_features(features, importances, 'Random Forest', 'Qc')"
   ]
  },
  {
   "cell_type": "markdown",
   "id": "43d82e7a",
   "metadata": {},
   "source": [
    "## Magnetization Power"
   ]
  },
  {
   "cell_type": "code",
   "execution_count": null,
   "id": "85a15219",
   "metadata": {
    "scrolled": true
   },
   "outputs": [],
   "source": [
    "model = GridSearchCV(rf_model_cv_gs, \n",
    "                     param_grid=params, \n",
    "                     return_train_score=True, \n",
    "                     verbose = 2,\n",
    "                    )\n",
    "\n",
    "model.fit(X_train, y_train['Wm'])"
   ]
  },
  {
   "cell_type": "code",
   "execution_count": null,
   "id": "02ea9c54",
   "metadata": {},
   "outputs": [],
   "source": [
    "model.best_estimator_"
   ]
  },
  {
   "cell_type": "code",
   "execution_count": null,
   "id": "09fb8f2e",
   "metadata": {},
   "outputs": [],
   "source": [
    "features = X_train.columns\n",
    "importances = model.best_estimator_.feature_importances_"
   ]
  },
  {
   "cell_type": "code",
   "execution_count": null,
   "id": "06131987",
   "metadata": {},
   "outputs": [],
   "source": [
    "print('The coefficient of determination for the Training Set is',r2_score(y_train['Wm'],model.predict(X_train).T))\n",
    "print('The coefficient of determination for the Test Set is',r2_score(y_test['Wm'], model.predict(X_test).T))"
   ]
  },
  {
   "cell_type": "code",
   "execution_count": null,
   "id": "15cd3031",
   "metadata": {},
   "outputs": [],
   "source": [
    "plot_Wm(y_train['Wm'],\n",
    "        model.predict(X_train).T,\n",
    "        y_test['Wm'],\n",
    "        model.predict(X_test).T,\n",
    "        \"Random Forest\")"
   ]
  },
  {
   "cell_type": "code",
   "execution_count": null,
   "id": "307496ef",
   "metadata": {
    "scrolled": true
   },
   "outputs": [],
   "source": [
    "plot_features(features, importances, 'Random Forest', 'Wm')"
   ]
  }
 ],
 "metadata": {
  "kernelspec": {
   "display_name": "Python 3 (ipykernel)",
   "language": "python",
   "name": "python3"
  },
  "language_info": {
   "codemirror_mode": {
    "name": "ipython",
    "version": 3
   },
   "file_extension": ".py",
   "mimetype": "text/x-python",
   "name": "python",
   "nbconvert_exporter": "python",
   "pygments_lexer": "ipython3",
   "version": "3.8.12"
  }
 },
 "nbformat": 4,
 "nbformat_minor": 5
}
